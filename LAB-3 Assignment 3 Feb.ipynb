{
 "cells": [
  {
   "cell_type": "markdown",
   "id": "62628ea4",
   "metadata": {},
   "source": [
    "# LAB-3 Assignment \n",
    "### Date: 03-02-2024"
   ]
  },
  {
   "cell_type": "markdown",
   "id": "f5452a96",
   "metadata": {},
   "source": [
    "## 1. Write a Python Program to find the print sum, average of all numbers, smallest and largest element of a list."
   ]
  },
  {
   "cell_type": "code",
   "execution_count": 6,
   "id": "9ec828d3",
   "metadata": {},
   "outputs": [
    {
     "name": "stdout",
     "output_type": "stream",
     "text": [
      "Sum = 30\n",
      "Average = 3.75\n",
      "Largest = 9\n",
      "Smallest = 0\n"
     ]
    }
   ],
   "source": [
    "l1 = [2, 1, 0, 5, 3, 4, 6, 9]\n",
    "\n",
    "tsum = 0\n",
    "\n",
    "for i in l1:\n",
    "    tsum+=i\n",
    "    \n",
    "avg = tsum/(len(l1))\n",
    "print(\"Sum =\", tsum)\n",
    "print(\"Average =\", avg)\n",
    "print(\"Largest =\", max(l1))\n",
    "print(\"Smallest =\", min(l1))"
   ]
  },
  {
   "cell_type": "markdown",
   "id": "934fa06e",
   "metadata": {},
   "source": [
    "## 2. Write a Python Program to merge two lists and sort it."
   ]
  },
  {
   "cell_type": "code",
   "execution_count": 3,
   "id": "bdf17fe3",
   "metadata": {},
   "outputs": [
    {
     "name": "stdout",
     "output_type": "stream",
     "text": [
      "Merged List:\n",
      "Before Sorting :\n",
      " [1, 0, 9, 3, -1, 5, 6, 8]\n",
      "After Sorting:\n",
      " [-1, 0, 1, 3, 5, 6, 8, 9]\n"
     ]
    }
   ],
   "source": [
    "l1 = [1, 0, 9, 3]\n",
    "l2 = [-1, 5, 6, 8]\n",
    "\n",
    "l3 = l1+l2\n",
    "\n",
    "print(\"Merged List:\")\n",
    "print(\"Before Sorting :\\n\", l3)\n",
    "\n",
    "l3.sort()\n",
    "\n",
    "print(\"After Sorting:\\n\", l3)"
   ]
  },
  {
   "cell_type": "markdown",
   "id": "0e1f5097",
   "metadata": {},
   "source": [
    "## 3. Write a Python Program to remove the duplicate items from a list."
   ]
  },
  {
   "cell_type": "code",
   "execution_count": 9,
   "id": "c728e66c",
   "metadata": {},
   "outputs": [
    {
     "name": "stdout",
     "output_type": "stream",
     "text": [
      "[1, 2, 3, 2, 1, 0, 5, 3, 3]\n",
      "[1, 2, 3, 0, 5]\n"
     ]
    }
   ],
   "source": [
    "l1 = [1, 2, 3, 2, 1, 0, 5, 3, 3]\n",
    "print(l1)\n",
    "\n",
    "l2=[]\n",
    "\n",
    "for i in l1:\n",
    "    if i not in l2:\n",
    "        l2.append(i)\n",
    "        \n",
    "print(l2)"
   ]
  },
  {
   "cell_type": "markdown",
   "id": "8ed722f5",
   "metadata": {},
   "source": [
    "## 4. Write a Python Program to put even and odd elements in a list into two different lists."
   ]
  },
  {
   "cell_type": "code",
   "execution_count": 8,
   "id": "ce75e84e",
   "metadata": {},
   "outputs": [
    {
     "name": "stdout",
     "output_type": "stream",
     "text": [
      "[0, 9, 8, 1, 2, 3, 4, 5, 6, 7]\n",
      "List of odd Numbers : [9, 1, 3, 5, 7]\n",
      "List of even Numbers : [0, 8, 2, 4, 6]\n"
     ]
    }
   ],
   "source": [
    "l1 = [0, 9, 8, 1, 2, 3, 4, 5, 6, 7]\n",
    "print(l1)\n",
    "\n",
    "odd = []\n",
    "even = []\n",
    "\n",
    "for i in l1:\n",
    "    if i%2==0:\n",
    "        even.append(i)\n",
    "    else:\n",
    "        odd.append(i)\n",
    "        \n",
    "print(\"List of odd Numbers :\", odd)\n",
    "print(\"List of even Numbers :\", even)\n",
    "    "
   ]
  },
  {
   "cell_type": "markdown",
   "id": "81481435",
   "metadata": {},
   "source": [
    "## 5. Write a Python Program to generate random numbers within a given range and append them to the list. [Hint: Use random module]"
   ]
  },
  {
   "cell_type": "code",
   "execution_count": 4,
   "id": "014c1ab6",
   "metadata": {},
   "outputs": [
    {
     "name": "stdout",
     "output_type": "stream",
     "text": [
      "Enter range l1: 1\n",
      "Enter range l2: 10\n",
      "[8, 6, 5, 2, 7, 5, 8, 0, 7, 2]\n"
     ]
    }
   ],
   "source": [
    "import random as rand\n",
    "low = int(input(\"Enter range l1: \"))\n",
    "high = int(input(\"Enter range l2: \"))\n",
    "\n",
    "l1 = []\n",
    "\n",
    "for i in range(10):\n",
    "    randNumber = rand.random() * high\n",
    "    l1.append(int(randNumber))\n",
    "    \n",
    "print(l1)\n"
   ]
  },
  {
   "cell_type": "markdown",
   "id": "d68d9f7b",
   "metadata": {},
   "source": [
    "## 6. Write a Python Program to remove a specific digit from every element of the list."
   ]
  },
  {
   "cell_type": "code",
   "execution_count": 1,
   "id": "f08ce096",
   "metadata": {},
   "outputs": [
    {
     "name": "stdout",
     "output_type": "stream",
     "text": [
      "[134, 5678, 901, 45]\n"
     ]
    }
   ],
   "source": [
    "def remove_digit(data, digit):\n",
    "    result = []\n",
    "    for num in data:\n",
    "        new_num = 0\n",
    "        multiplier = 1\n",
    "        while num > 0:\n",
    "            remainder = num % 10\n",
    "            if remainder != digit:\n",
    "                new_num += remainder * multiplier\n",
    "                multiplier *= 10\n",
    "            num //= 10\n",
    "        result.append(new_num)\n",
    "    return result\n",
    "\n",
    "\n",
    "# Example usage\n",
    "list_of_numbers = [1234, 5678, 9012, 452]\n",
    "digit_to_remove = 2\n",
    "modified_list = remove_digit(list_of_numbers, digit_to_remove)\n",
    "print(modified_list)\n"
   ]
  },
  {
   "cell_type": "markdown",
   "id": "a001667f",
   "metadata": {},
   "source": [
    "## 7. Write a Python Program to find the maximum and minimum K elements in tuple."
   ]
  },
  {
   "cell_type": "code",
   "execution_count": 5,
   "id": "d03acfd7",
   "metadata": {},
   "outputs": [
    {
     "name": "stdout",
     "output_type": "stream",
     "text": [
      "Minimum K elements: [1, 2, 3]\n",
      "Maximum K elements: [5, 8, 10]\n"
     ]
    }
   ],
   "source": [
    "def find_max_min_k(data, k):\n",
    "    sorted_data = sorted(data)\n",
    "    return sorted_data[:k], sorted_data[-k:]\n",
    "\n",
    "\n",
    "# Example\n",
    "my_tuple = (5, 2, 8, 3, 10, 1)\n",
    "k = 3\n",
    "min_k, max_k = find_max_min_k(my_tuple, k)\n",
    "print(f\"Minimum K elements: {min_k}\")\n",
    "print(f\"Maximum K elements: {max_k}\")\n"
   ]
  },
  {
   "cell_type": "markdown",
   "id": "d7dfe04f",
   "metadata": {},
   "source": [
    "## 8. Write a Python program to find the repeated items of a tuple."
   ]
  },
  {
   "cell_type": "code",
   "execution_count": 11,
   "id": "8e1b9e96",
   "metadata": {},
   "outputs": [
    {
     "name": "stdout",
     "output_type": "stream",
     "text": [
      "Repeated:\n",
      " [1, 2, 3, 6]\n"
     ]
    }
   ],
   "source": [
    "t1 = (1, 2, 3, 1, 2, 5, 6, 2, 3, 6)\n",
    "repeated = []\n",
    "\n",
    "for i in t1:\n",
    "    if t1.count(i)>1 and i not in repeated:\n",
    "        repeated.append(i)\n",
    "        \n",
    "print(\"Repeated:\\n\", repeated)"
   ]
  },
  {
   "cell_type": "markdown",
   "id": "e2d8d136",
   "metadata": {},
   "source": [
    "## 9. Write a Python program to remove an empty tuples from a list of tuples."
   ]
  },
  {
   "cell_type": "code",
   "execution_count": 17,
   "id": "cb3d238c",
   "metadata": {},
   "outputs": [
    {
     "name": "stdout",
     "output_type": "stream",
     "text": [
      "(1, 2, 3, (1, 2), (), 9, ())\n",
      "[1, 2, 3, (1, 2), 9]\n"
     ]
    }
   ],
   "source": [
    "tup = (1, 2, 3, (1, 2), (), 9, ())\n",
    "filtered = [t for t in tup if t]\n",
    "\n",
    "print(tup)\n",
    "print(filtered)\n",
    "    "
   ]
  },
  {
   "cell_type": "markdown",
   "id": "ac3ea74e",
   "metadata": {},
   "source": [
    "## 10. Write a Python program to find tuples with positive elements from a list of tuples."
   ]
  },
  {
   "cell_type": "code",
   "execution_count": 3,
   "id": "7b23c089",
   "metadata": {},
   "outputs": [
    {
     "name": "stdout",
     "output_type": "stream",
     "text": [
      "The original list is : [(4, 5, 9), (-3, 2, 3), (-3, 5, 6), (4, 6)]\n",
      "Positive elements Tuples : [(4, 5, 9), (4, 6)]\n"
     ]
    }
   ],
   "source": [
    "l1 = [(4, 5, 9), (-3, 2, 3), (-3, 5, 6), (4, 6)]\n",
    "print(\"The original list is : \" + str(l1))\n",
    " \n",
    "# all() to check each element\n",
    "res = [sub for sub in l1 if all(ele >= 0 for ele in sub)]\n",
    "\n",
    "print(\"Positive elements Tuples : \" + str(res))"
   ]
  },
  {
   "cell_type": "code",
   "execution_count": null,
   "id": "39f095a0",
   "metadata": {},
   "outputs": [],
   "source": []
  },
  {
   "cell_type": "markdown",
   "id": "4af4ce36",
   "metadata": {},
   "source": [
    "# HOME EXERCISE (HE)"
   ]
  },
  {
   "cell_type": "markdown",
   "id": "058a6db3",
   "metadata": {},
   "source": [
    "### 1) Write a Python program to count the number of strings where the string length is 3 or more and the first and last character are same from a given list of strings. \n",
    "### Input : ['ab', 'aba', 'abaa', 'baba']\n",
    "### Output : 2"
   ]
  },
  {
   "cell_type": "code",
   "execution_count": 47,
   "id": "c0784504",
   "metadata": {},
   "outputs": [
    {
     "name": "stdout",
     "output_type": "stream",
     "text": [
      "4\n"
     ]
    }
   ],
   "source": [
    "strList = ['pap', 'ab', 'aba', 'abaa', 'baba', 'bab']\n",
    "count = 0\n",
    "for strr in strList:\n",
    "    if len(strr)>=3:\n",
    "        if strr[0] == strr[-1]:\n",
    "            count=count+1\n",
    "            \n",
    "print(count)\n",
    "        "
   ]
  },
  {
   "cell_type": "markdown",
   "id": "3eba561a",
   "metadata": {},
   "source": [
    "## 2. Write a Python program to print duplicates from a list of integers."
   ]
  },
  {
   "cell_type": "code",
   "execution_count": 45,
   "id": "80bcde35",
   "metadata": {},
   "outputs": [
    {
     "name": "stdout",
     "output_type": "stream",
     "text": [
      "Original List :  [1, 3, 1, 2, 6, 2, 3, 6, 7, 8, 9, 10]\n",
      "Duplicates Elements :  [1, 2, 3, 6]\n"
     ]
    }
   ],
   "source": [
    "intList = [1, 3, 1, 2, 6, 2, 3, 6, 7, 8 , 9, 10]\n",
    "print(\"Original List : \", intList)\n",
    "\n",
    "duplicates = []\n",
    "size = len(intList)\n",
    "# Sorting the list\n",
    "intList.sort()\n",
    "for i in range(0, size-1):\n",
    "    if intList[i] == intList[i+1]:\n",
    "        duplicates.append(intList[i])\n",
    "        continue\n",
    "\n",
    "print(\"Duplicates Elements : \", duplicates)"
   ]
  },
  {
   "cell_type": "markdown",
   "id": "0eda1eba",
   "metadata": {},
   "source": [
    "## 3. Write a Python program to take both strings and numbers in a list -\n",
    "#### a) Create separate lists of strings and numbers.\n",
    "#### b) Sort the strings list in ascending order\n",
    "#### c) Sort the strings list in descending order\n",
    "#### d) Sort the number list from lowest to highest\n",
    "#### e) Sort the number list from highest to lowest"
   ]
  },
  {
   "cell_type": "code",
   "execution_count": 34,
   "id": "dce9a746",
   "metadata": {},
   "outputs": [
    {
     "name": "stdout",
     "output_type": "stream",
     "text": [
      "(a).\n",
      "String List : ['Suraj', 'Paro', 'Sunil']\n",
      "Numbers List : [3469, 2946, 2954]\n",
      "\n",
      "(b). Sorted String List (Ascending): ['Paro', 'Sunil', 'Suraj']\n",
      "\n",
      "(c). Sorted String List (Descending): ['Suraj', 'Sunil', 'Paro']\n",
      "\n",
      "(d). Sorted Number List (Ascending): [2946, 2954, 3469]\n",
      "\n",
      "(e). Sorted Number List (Descending): [3469, 2954, 2946]\n",
      "\n"
     ]
    }
   ],
   "source": [
    "list1 = ['Suraj', 3469, 'Paro', 2946, 'Sunil', 2954]\n",
    "\n",
    "# (a)\n",
    "strList = []\n",
    "numList = []\n",
    "for i in list1:\n",
    "    if str(i).isalpha():\n",
    "        strList.append(i)\n",
    "    else:\n",
    "        numList.append(i)\n",
    "        \n",
    "print(\"(a).\")\n",
    "print(\"String List :\", strList)\n",
    "print(\"Numbers List :\", numList)\n",
    "print()\n",
    "\n",
    "# (b)\n",
    "strList.sort()\n",
    "print(\"(b). Sorted String List (Ascending):\", strList)\n",
    "print()\n",
    "\n",
    "# (c)\n",
    "strList.sort(reverse=True)\n",
    "print(\"(c). Sorted String List (Descending):\", strList)\n",
    "print()\n",
    "\n",
    "# (d)\n",
    "numList.sort()\n",
    "print(\"(d). Sorted Number List (Ascending):\", numList)\n",
    "print()\n",
    "\n",
    "# (e)\n",
    "numList.sort(reverse=True)\n",
    "print(\"(e). Sorted Number List (Descending):\", numList)\n",
    "print()"
   ]
  },
  {
   "cell_type": "markdown",
   "id": "2cb6e358",
   "metadata": {},
   "source": [
    "## 4. Write a Python program to find tuples which have all elements divisible by K from a list of tuples."
   ]
  },
  {
   "cell_type": "code",
   "execution_count": 43,
   "id": "f61f9173",
   "metadata": {},
   "outputs": [
    {
     "name": "stdout",
     "output_type": "stream",
     "text": [
      "[(2, 50), (4, 8), (8, 24)]\n"
     ]
    }
   ],
   "source": [
    "def find_divisible_tuples(data, k):\n",
    "    result = []\n",
    "    for tup in data:\n",
    "        if all(element % k == 0 for element in tup):\n",
    "            result.append(tup)\n",
    "    return result\n",
    "\n",
    "# Example\n",
    "l1 = [(2, 50), (1, 2), (3, 6), (4, 8), (5, 10), (8, 24)]\n",
    "k = 2\n",
    "divisible_tuples = find_divisible_tuples(l1, k)\n",
    "print(divisible_tuples)\n"
   ]
  },
  {
   "cell_type": "markdown",
   "id": "14a524bd",
   "metadata": {},
   "source": [
    "## 5. Write a Python program to replace middle value of tuples with new input item in a list of tuples.[Number of items in tuple is odd]"
   ]
  },
  {
   "cell_type": "code",
   "execution_count": 41,
   "id": "5a888dbb",
   "metadata": {},
   "outputs": [
    {
     "name": "stdout",
     "output_type": "stream",
     "text": [
      "[(1, 'X', 3), (0, 'X', 3), (7, 8, 'X', 10, 11)]\n"
     ]
    }
   ],
   "source": [
    "def replace_middle_value(data, new_item):\n",
    "    result = []\n",
    "    for tup in data:\n",
    "        if len(tup) % 2 != 0:\n",
    "            mid_index = len(tup) // 2\n",
    "            new_tuple = tup[:mid_index] + (new_item,) + tup[mid_index + 1:]\n",
    "            result.append(new_tuple)\n",
    "    return result\n",
    "\n",
    "\n",
    "# Example usage\n",
    "list_of_tuples = [(1, 2, 3), (4, 5), (0, 1, 3), (7, 8, 9, 10, 11)]\n",
    "new_item = \"X\"\n",
    "modified_list = replace_middle_value(list_of_tuples, new_item)\n",
    "print(modified_list)"
   ]
  }
 ],
 "metadata": {
  "kernelspec": {
   "display_name": "Python 3 (ipykernel)",
   "language": "python",
   "name": "python3"
  },
  "language_info": {
   "codemirror_mode": {
    "name": "ipython",
    "version": 3
   },
   "file_extension": ".py",
   "mimetype": "text/x-python",
   "name": "python",
   "nbconvert_exporter": "python",
   "pygments_lexer": "ipython3",
   "version": "3.11.5"
  }
 },
 "nbformat": 4,
 "nbformat_minor": 5
}
