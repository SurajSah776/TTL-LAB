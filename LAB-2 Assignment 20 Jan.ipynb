{
 "cells": [
  {
   "cell_type": "markdown",
   "id": "2704e528",
   "metadata": {},
   "source": [
    "# LAB-2 Assignment (Jan-20, 2024)"
   ]
  },
  {
   "cell_type": "markdown",
   "id": "c16bdb0b",
   "metadata": {},
   "source": [
    "### 1. Write a Python Program to count the number of lowercase and uppercase letters in a string."
   ]
  },
  {
   "cell_type": "code",
   "execution_count": 1,
   "id": "d7030aad",
   "metadata": {},
   "outputs": [
    {
     "name": "stdout",
     "output_type": "stream",
     "text": [
      "Lowercase = 9 \n",
      "Uppercase = 5\n"
     ]
    }
   ],
   "source": [
    "str1=\"KIIT University\"\n",
    "lower=0\n",
    "upper=0\n",
    "for i in str1:\n",
    "    if i.islower():\n",
    "        lower+=1\n",
    "    if i.isupper():\n",
    "        upper+=1\n",
    "print(f\"Lowercase = {lower} \\nUppercase = {upper}\")"
   ]
  },
  {
   "cell_type": "markdown",
   "id": "37678c85",
   "metadata": {},
   "source": [
    "### 2. Write a Python Program to count the number of digits and characters in a string."
   ]
  },
  {
   "cell_type": "code",
   "execution_count": 2,
   "id": "6a90c319",
   "metadata": {},
   "outputs": [
    {
     "name": "stdout",
     "output_type": "stream",
     "text": [
      "Digits = 8 \n",
      "Characters = 14\n"
     ]
    }
   ],
   "source": [
    "str2=\"KIIT University, 21053469\"\n",
    "num=0\n",
    "char=0\n",
    "for i in str2:\n",
    "    if i.isdigit():\n",
    "        num+=1\n",
    "    if i.isalpha():\n",
    "        char+=1\n",
    "print(f\"Digits = {num} \\nCharacters = {char}\")"
   ]
  },
  {
   "cell_type": "markdown",
   "id": "acf7ef2b",
   "metadata": {},
   "source": [
    "### 3. Write a Python Program to calculate the length of a string without using a library function."
   ]
  },
  {
   "cell_type": "code",
   "execution_count": 3,
   "id": "71e8d96b",
   "metadata": {},
   "outputs": [
    {
     "name": "stdout",
     "output_type": "stream",
     "text": [
      "Length of 'Suraj' = 5\n"
     ]
    }
   ],
   "source": [
    "str3 = \"Suraj\"\n",
    "len=0\n",
    "for i in str3:\n",
    "    len+=1\n",
    "print(f\"Length of '{str3}' = {len}\")"
   ]
  },
  {
   "cell_type": "markdown",
   "id": "e359c420",
   "metadata": {},
   "source": [
    "### 4. Write a Python Program to take two strings and display the smallest string without using library function."
   ]
  },
  {
   "cell_type": "code",
   "execution_count": 4,
   "id": "ee54caea",
   "metadata": {},
   "outputs": [
    {
     "name": "stdout",
     "output_type": "stream",
     "text": [
      "Enter first String : Suraj\n",
      "Enter second String : Sah\n",
      "'Sah' is smaller than 'Suraj'\n"
     ]
    }
   ],
   "source": [
    "str1=input(\"Enter first String : \")\n",
    "str2=input(\"Enter second String : \")\n",
    "len1, len2=0, 0\n",
    "for i in str1:\n",
    "    len1+=1\n",
    "for i in str2:\n",
    "    len2+=1\n",
    "\n",
    "if len1<len2:\n",
    "    print(f\"'{str1}' is smaller than '{str2}'\")\n",
    "elif len1>len2:\n",
    "    print(f\"'{str2}' is smaller than '{str1}'\")\n",
    "else:\n",
    "    print(f\"'{str1}' and '{str2}' are equal\")"
   ]
  },
  {
   "cell_type": "markdown",
   "id": "4d92a95b",
   "metadata": {},
   "source": [
    "### 5.  Write a Python program to count the occurrences of each word in a given string sentence"
   ]
  },
  {
   "cell_type": "code",
   "execution_count": 5,
   "id": "cbe8ad91",
   "metadata": {},
   "outputs": [
    {
     "name": "stdout",
     "output_type": "stream",
     "text": [
      "Count of Suraj = 1\n",
      "Count of Kumar = 1\n",
      "Count of Sah = 1\n"
     ]
    }
   ],
   "source": [
    "str1=\"Suraj Kumar Sah\"\n",
    "str2=str1.split()\n",
    "\n",
    "for i in str2:\n",
    "    print(f\"Count of {i} = {str1.count(i)}\")"
   ]
  },
  {
   "cell_type": "markdown",
   "id": "540e45ca",
   "metadata": {},
   "source": [
    "### 6. Write a Python program to reverse a string."
   ]
  },
  {
   "cell_type": "code",
   "execution_count": 6,
   "id": "b344b231",
   "metadata": {},
   "outputs": [
    {
     "name": "stdout",
     "output_type": "stream",
     "text": [
      "Enter a String: kiit\n",
      "tiik\n"
     ]
    }
   ],
   "source": [
    "str1=input(\"Enter a String: \")\n",
    "rev = str1[::-1]\n",
    "print(rev)"
   ]
  },
  {
   "cell_type": "markdown",
   "id": "b545cf0d",
   "metadata": {},
   "source": [
    "# 7. Write a Python program to print the following pattern."
   ]
  },
  {
   "cell_type": "code",
   "execution_count": 7,
   "id": "41f5eccf",
   "metadata": {},
   "outputs": [
    {
     "name": "stdout",
     "output_type": "stream",
     "text": [
      "Enter row number : 5\n",
      "AAAAA\n",
      "BBBBB\n",
      "CCCCC\n",
      "DDDDD\n",
      "EEEEE\n"
     ]
    }
   ],
   "source": [
    "'''\n",
    "i. \n",
    "AAAAA\n",
    "BBBBB\n",
    "CCCCC\n",
    "DDDDD\n",
    "EEEEE\n",
    "'''\n",
    "\n",
    "row=int(input(\"Enter row number : \"))\n",
    "str1='ABCDEFGHIJKLMNOPQRSTUVWXYZ'\n",
    "for i in range(row):\n",
    "    for j in range(row):\n",
    "        print(str1[i], end=\"\")\n",
    "    print()"
   ]
  },
  {
   "cell_type": "code",
   "execution_count": 8,
   "id": "f2734c4a",
   "metadata": {},
   "outputs": [
    {
     "name": "stdout",
     "output_type": "stream",
     "text": [
      "Enter row number : 5\n",
      " \n",
      "A \n",
      "AB \n",
      "ABC \n",
      "ABCD \n",
      "ABCDE \n"
     ]
    }
   ],
   "source": [
    "'''\n",
    "ii. \n",
    "A\n",
    "BB\n",
    "CCC\n",
    "DDDD\n",
    "EEEEE\n",
    "'''\n",
    "\n",
    "row=int(input(\"Enter row number : \"))\n",
    "str1='ABCDEFGHIJKLMNOPQRSTUVWXYZ'\n",
    "for i in range(row+1):\n",
    "    print(str1[:i], end=\" \")\n",
    "    print()"
   ]
  },
  {
   "cell_type": "code",
   "execution_count": 9,
   "id": "2f693657",
   "metadata": {},
   "outputs": [
    {
     "name": "stdout",
     "output_type": "stream",
     "text": [
      "Enter row number : 5\n",
      "EDCBA \n",
      "EDCB \n",
      "EDC \n",
      "ED \n",
      "E \n"
     ]
    }
   ],
   "source": [
    "'''\n",
    "iii.\n",
    "EDCBA\n",
    "EDCB\n",
    "EDC\n",
    "ED\n",
    "E\n",
    "'''\n",
    "\n",
    "row=int(input(\"Enter row number : \"))\n",
    "str1='EDCBA'\n",
    "for i in range(row):\n",
    "    print(str1[:row-i], end=\" \")\n",
    "    print()"
   ]
  },
  {
   "cell_type": "code",
   "execution_count": 3,
   "id": "12751e14",
   "metadata": {},
   "outputs": [
    {
     "name": "stdout",
     "output_type": "stream",
     "text": [
      "     P\n",
      "    PR\n",
      "   PRA\n",
      "  PRAB\n",
      " PRABH\n",
      "PRABHU\n"
     ]
    }
   ],
   "source": [
    "'''\n",
    "iv.\n",
    "      P\n",
    "     PR\n",
    "    PRA\n",
    "   PRAB\n",
    "  PRABH\n",
    " PRABHU\n",
    "'''\n",
    "\n",
    "word = \"PRABHU\"\n",
    "length = len(word)\n",
    "\n",
    "for i in range(length):\n",
    "    spaces = \" \" * (length - i - 1)\n",
    "    substring = word[:i + 1]\n",
    "    print(spaces + substring)"
   ]
  },
  {
   "cell_type": "code",
   "execution_count": 11,
   "id": "903ebb10",
   "metadata": {},
   "outputs": [
    {
     "name": "stdout",
     "output_type": "stream",
     "text": [
      "Enter row number : 5\n",
      "1 2 3 4 5\n",
      "  1 2 3 4\n",
      "    1 2 3\n",
      "      1 2\n",
      "        1\n"
     ]
    }
   ],
   "source": [
    "'''\n",
    "v.\n",
    "12345\n",
    " 1234\n",
    "  123\n",
    "   12\n",
    "    1\n",
    "'''\n",
    "\n",
    "row = int(input(\"Enter row number : \"))\n",
    "\n",
    "for i in range(row):\n",
    "    spaces = \" \" * (2 * i)\n",
    "    numbers = \" \".join(str(j) for j in range(1, row - i + 1))\n",
    "    print(spaces + numbers)"
   ]
  },
  {
   "cell_type": "code",
   "execution_count": 12,
   "id": "47c070db",
   "metadata": {},
   "outputs": [
    {
     "name": "stdout",
     "output_type": "stream",
     "text": [
      "    A\n",
      "   ABC\n",
      "  ABCDE\n",
      " ABCDEFG\n",
      "ABCDEFGHI\n"
     ]
    }
   ],
   "source": [
    "'''\n",
    "vi.\n",
    "    A\n",
    "   ABC\n",
    "  ABCDE\n",
    " ABCDEFG\n",
    "ABCDEFGHI\n",
    "\n",
    "'''\n",
    "rows = 5\n",
    "\n",
    "for i in range(rows):\n",
    "    spaces = \" \" * (rows - i - 1)\n",
    "    characters = \"\".join(chr(ord('A') + j) for j in range(2 * i + 1))\n",
    "    print(spaces + characters)"
   ]
  },
  {
   "cell_type": "code",
   "execution_count": 13,
   "id": "327d4699",
   "metadata": {},
   "outputs": [
    {
     "name": "stdout",
     "output_type": "stream",
     "text": [
      "    1\n",
      "   321\n",
      "  54321\n",
      " 7654321\n",
      "987654321\n"
     ]
    }
   ],
   "source": [
    "'''\n",
    "vii.\n",
    "    1\n",
    "   321\n",
    "  54321\n",
    " 7654321\n",
    "987654321\n",
    "\n",
    "'''\n",
    "rows = 5\n",
    "num = 1\n",
    "\n",
    "for i in range(rows):\n",
    "    spaces = \" \" * (rows - i - 1)\n",
    "    numbers = \"\".join(str(num - j) for j in range(2 * i + 1))\n",
    "    print(spaces + numbers)\n",
    "    num += 2"
   ]
  },
  {
   "cell_type": "code",
   "execution_count": 14,
   "id": "a359ebc3",
   "metadata": {},
   "outputs": [
    {
     "name": "stdout",
     "output_type": "stream",
     "text": [
      "**********\n",
      "****  ****\n",
      "***    ***\n",
      "**      **\n",
      "*        *\n"
     ]
    }
   ],
   "source": [
    "'''\n",
    "viii.\n",
    "*********\n",
    "**** ****\n",
    "***   ***\n",
    "**     **\n",
    "*       *\n",
    "\n",
    "'''\n",
    "\n",
    "rows = 5\n",
    "for i in range(rows):\n",
    "    stars_left = \"*\" * (rows - i)\n",
    "    spaces = \" \" * (2 * i)\n",
    "    stars_right = \"*\" * (rows - i)\n",
    "    print(stars_left + spaces + stars_right)"
   ]
  },
  {
   "cell_type": "code",
   "execution_count": 15,
   "id": "33eee19c",
   "metadata": {},
   "outputs": [
    {
     "name": "stdout",
     "output_type": "stream",
     "text": [
      "A B C D E\n",
      " A B C D\n",
      "  A B C\n",
      "   A B\n",
      "    A\n"
     ]
    }
   ],
   "source": [
    "'''\n",
    "ix.\n",
    "A B C D E\n",
    " A B C D\n",
    "  A B C\n",
    "   A B\n",
    "    A\n",
    "'''\n",
    "\n",
    "rows = 5\n",
    "for i in range(rows):\n",
    "    spaces = \" \" * i\n",
    "    characters = \" \".join(chr(ord('A') + j) for j in range(rows - i))\n",
    "    print(spaces + characters)"
   ]
  },
  {
   "cell_type": "markdown",
   "id": "b727c109",
   "metadata": {},
   "source": [
    "# HOME EXERCISE (HE)"
   ]
  },
  {
   "cell_type": "markdown",
   "id": "b49f8c01",
   "metadata": {},
   "source": [
    "### 1. Write a Python Program to count the number of vowels in a string."
   ]
  },
  {
   "cell_type": "code",
   "execution_count": 6,
   "id": "bfbb777c",
   "metadata": {},
   "outputs": [
    {
     "name": "stdout",
     "output_type": "stream",
     "text": [
      "Enter a String: Suraj Kumar Sah\n",
      "Vowels in 'Suraj Kumar Sah' = 5\n"
     ]
    }
   ],
   "source": [
    "string = input(\"Enter a String: \")\n",
    "nString = string.lower()\n",
    "count=0\n",
    "for i in range(len(string)):\n",
    "    char = nString[i]\n",
    "    if char=='a' or char=='e' or char=='i' or char=='o' or char=='u':\n",
    "        count+=1\n",
    "        \n",
    "print(f\"Vowels in '{string}' = {count}\")"
   ]
  },
  {
   "cell_type": "markdown",
   "id": "121d408c",
   "metadata": {},
   "source": [
    "### 2. Write a Python Program to replace all occurrences of ‘a’ with ‘@’ in a string."
   ]
  },
  {
   "cell_type": "code",
   "execution_count": 8,
   "id": "0b538be9",
   "metadata": {},
   "outputs": [
    {
     "name": "stdout",
     "output_type": "stream",
     "text": [
      "Enter a String: Suraj Kumar Sah\n",
      "Sur@j Kum@r S@h\n"
     ]
    }
   ],
   "source": [
    "string = input(\"Enter a String: \")\n",
    "\n",
    "print(string.replace('a', '@'))\n"
   ]
  },
  {
   "cell_type": "markdown",
   "id": "75b0f140",
   "metadata": {},
   "source": [
    "### 3. Write a Python program to get a string made of the first 3 and the last 3 chars from a given a string. If the string length is less than 3, return the original string."
   ]
  },
  {
   "cell_type": "code",
   "execution_count": 18,
   "id": "e3b6037f",
   "metadata": {},
   "outputs": [
    {
     "name": "stdout",
     "output_type": "stream",
     "text": [
      "Enter a String: Suraj Sah\n",
      "New String = SurSah\n"
     ]
    }
   ],
   "source": [
    "string = input(\"Enter a String: \")\n",
    "\n",
    "if len(string)<3:\n",
    "    print(string)\n",
    "else:\n",
    "    first = string[:3]\n",
    "    last = string[len(string)-3:len(string)]\n",
    "    print(f\"New String = {first}{last}\")"
   ]
  },
  {
   "cell_type": "markdown",
   "id": "4b695380",
   "metadata": {},
   "source": [
    "### 4. Write a Python program to check string is Palindrome or not."
   ]
  },
  {
   "cell_type": "code",
   "execution_count": 3,
   "id": "8f865bec",
   "metadata": {},
   "outputs": [
    {
     "name": "stdout",
     "output_type": "stream",
     "text": [
      "Enter a String: SaaS\n",
      "SaaS is Palindrome\n"
     ]
    }
   ],
   "source": [
    "word = input(\"Enter a String: \")\n",
    "rev = word[::-1]\n",
    "if word==rev:\n",
    "    print(f\"{word} is Palindrome\")\n",
    "else:\n",
    "    print(f\"{word} is not Palindrome\")"
   ]
  },
  {
   "cell_type": "markdown",
   "id": "a8eb7ccc",
   "metadata": {},
   "source": [
    "## 5. Write a Python program to print the following pattern."
   ]
  },
  {
   "cell_type": "code",
   "execution_count": 1,
   "id": "79c7a1ba",
   "metadata": {},
   "outputs": [
    {
     "name": "stdout",
     "output_type": "stream",
     "text": [
      "Enter String: PRABHU\n",
      "P\n",
      "PR\n",
      "PRA\n",
      "PRAB\n",
      "PRABH\n",
      "PRABHU\n",
      "PRABH\n",
      "PRAB\n",
      "PRA\n",
      "PR\n",
      "P\n",
      "\n"
     ]
    }
   ],
   "source": [
    "'''\n",
    "i.\n",
    "Enter String: PRABHU\n",
    "P\n",
    "PR\n",
    "PRA\n",
    "PRAB\n",
    "PRABH\n",
    "PRABHU\n",
    "PRABH\n",
    "PRAB\n",
    "PRA\n",
    "PR\n",
    "P\n",
    "'''\n",
    "\n",
    "word = input(\"Enter String: \")\n",
    "n = len(word)\n",
    "\n",
    "for i in range(n):\n",
    "    line = word[:i+1]\n",
    "    print(line)\n",
    "    \n",
    "for i in range(n-1, -1, -1):\n",
    "    line = word[:i]\n",
    "    print(line)\n",
    "    \n"
   ]
  },
  {
   "cell_type": "code",
   "execution_count": 2,
   "id": "d27c8b0c",
   "metadata": {},
   "outputs": [
    {
     "name": "stdout",
     "output_type": "stream",
     "text": [
      "Enter a String: KIITCSIT\n",
      "KIITCSIT TISCTIIK\n",
      "KIITCSI   ISCTIIK\n",
      "KIITCS     SCTIIK\n",
      "KIITC       CTIIK\n",
      "KIIT         TIIK\n",
      "KII           IIK\n",
      "KI             IK\n",
      "K               K\n",
      "K               K\n",
      "KI             IK\n",
      "KII           IIK\n",
      "KIIT         TIIK\n",
      "KIITC       CTIIK\n",
      "KIITCS     SCTIIK\n",
      "KIITCSI   ISCTIIK\n",
      "KIITCSIT TISCTIIK\n"
     ]
    }
   ],
   "source": [
    "'''\n",
    "ii.\n",
    "Enter string: KIITCSIT\n",
    "KIITCSIT TISCTIIK\n",
    "KIITCSI   ISCTIIK\n",
    "KIITCS     SCTIIK\n",
    "KIITC       CTIIK\n",
    "KIIT         TIIK\n",
    "KII           IIK\n",
    "KI             IK\n",
    "K               K\n",
    "K               K\n",
    "KI             IK\n",
    "KII           IIK\n",
    "KIIT         TIIK\n",
    "KIITC       CTIIK\n",
    "KIITCS     SCTIIK\n",
    "KIITCSI   ISCTIIK\n",
    "KIITCSIT TISCTIIK\n",
    "'''\n",
    "\n",
    "word = input(\"Enter a String: \")\n",
    "n = len(word)\n",
    "rev = word[::-1]\n",
    "    \n",
    "for i in range(n):\n",
    "    line = word[:n-i] + ' ' * (2*i+1) + rev[i:]\n",
    "    print(line)\n",
    "\n",
    "for i in range(n-1, -1, -1):\n",
    "    line = word[:n-i] + ' ' * (2*i+1) + rev[i:]\n",
    "    print(line)"
   ]
  },
  {
   "cell_type": "code",
   "execution_count": null,
   "id": "30a379a2",
   "metadata": {},
   "outputs": [],
   "source": []
  }
 ],
 "metadata": {
  "kernelspec": {
   "display_name": "Python 3 (ipykernel)",
   "language": "python",
   "name": "python3"
  },
  "language_info": {
   "codemirror_mode": {
    "name": "ipython",
    "version": 3
   },
   "file_extension": ".py",
   "mimetype": "text/x-python",
   "name": "python",
   "nbconvert_exporter": "python",
   "pygments_lexer": "ipython3",
   "version": "3.11.5"
  }
 },
 "nbformat": 4,
 "nbformat_minor": 5
}
