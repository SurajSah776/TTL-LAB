{
 "cells": [
  {
   "cell_type": "markdown",
   "id": "869e6d76",
   "metadata": {},
   "source": [
    "<h1 style=\"color:blue; text-align:center; font-size:40px\">SET</h1>"
   ]
  },
  {
   "cell_type": "code",
   "execution_count": 6,
   "id": "50faf0b6",
   "metadata": {},
   "outputs": [
    {
     "name": "stdout",
     "output_type": "stream",
     "text": [
      "{1, 2, 3, 4}\n",
      "<class 'set'>\n"
     ]
    }
   ],
   "source": [
    "# Elements are stored in Unordered manner, immutable\n",
    "# Duplicates are not allowed\n",
    "\n",
    "st1 = {1, 2, 3, 4}\n",
    "print(st1)\n",
    "print(type(st1))"
   ]
  },
  {
   "cell_type": "code",
   "execution_count": 8,
   "id": "1a7cfabc",
   "metadata": {},
   "outputs": [
    {
     "name": "stdout",
     "output_type": "stream",
     "text": [
      "{2946, 'Suraj', 'Sunil', 'Paro', 2954, 3469, 9.28}\n",
      "{False, True}\n"
     ]
    }
   ],
   "source": [
    "# Set do not preserve the order of the elements\n",
    "# Can store multiple data types\n",
    "st2 = {\"Suraj\", 3469, \"Sunil\", 2954, \"Paro\", 2946, 9.28}\n",
    "print(st2)\n",
    "\n",
    "\n",
    "# Boolean Set\n",
    "s1 = {True, False, True}\n",
    "print(s1)"
   ]
  },
  {
   "cell_type": "markdown",
   "id": "82e67e4b",
   "metadata": {},
   "source": [
    "## Creating Set using constructor"
   ]
  },
  {
   "cell_type": "code",
   "execution_count": 15,
   "id": "5d2af955",
   "metadata": {},
   "outputs": [
    {
     "name": "stdout",
     "output_type": "stream",
     "text": [
      "{1, 2, 3, 4}\n",
      "<class 'set'>\n"
     ]
    }
   ],
   "source": [
    "s2 = set((1, 2, 3, 4))\n",
    "\n",
    "print(s2)\n",
    "print(type(s2))\n",
    "\n",
    "# Set object is not subscripable  []\n",
    "# Because set is unordered\n",
    "# print(s2[1])  #->Gives error"
   ]
  },
  {
   "cell_type": "markdown",
   "id": "5816f46f",
   "metadata": {},
   "source": [
    "## Accessing the elements of a set"
   ]
  },
  {
   "cell_type": "code",
   "execution_count": 20,
   "id": "dd094dd5",
   "metadata": {},
   "outputs": [
    {
     "name": "stdout",
     "output_type": "stream",
     "text": [
      "SET:\n",
      "1  2  3  4  5  6  7  8  9  10  \n",
      "1 in SET: True\n"
     ]
    }
   ],
   "source": [
    "s1 = {1, 2, 3, 4, 5, 6, 7, 8, 9, 10}\n",
    "\n",
    "print(\"SET:\")\n",
    "for i in s1:\n",
    "    print(i, end = \"  \")\n",
    "    \n",
    "print()\n",
    "\n",
    "# To check whether an element is present in the set or not\n",
    "print(\"1 in SET:\", 1 in s1)\n"
   ]
  },
  {
   "cell_type": "markdown",
   "id": "7baf803b",
   "metadata": {},
   "source": [
    "## Adding elements to an existing set"
   ]
  },
  {
   "cell_type": "code",
   "execution_count": 31,
   "id": "4d24f568",
   "metadata": {},
   "outputs": [
    {
     "name": "stdout",
     "output_type": "stream",
     "text": [
      "Original Set:\n",
      "{2, -4, -3, -1}\n",
      "\n",
      "After adding 'Suraj':\n",
      "{2, 'Suraj', -4, -3, -1}\n",
      "\n",
      "Printing two sets\n",
      "{2, 'Suraj', -4, -3, -1} {1, 2, 3, 4}\n",
      "\n",
      "After adding two sets\n",
      "{1, 2, 3, 4, 'Suraj', -4, -3, -1}\n"
     ]
    }
   ],
   "source": [
    "# Using add()\n",
    "print(\"Original Set:\")\n",
    "s1 = {-1, 2, -3, -4}\n",
    "print(s1)\n",
    "\n",
    "print(\"\\nAfter adding 'Suraj':\")\n",
    "s1.add(\"Suraj\")\n",
    "print(s1)\n",
    "\n",
    "print(\"\\nPrinting two sets\")\n",
    "print(s1, s2)\n",
    "\n",
    "# Add a set into another\n",
    "print(\"\\nAfter adding two sets\")\n",
    "s1.update(s2)\n",
    "print(s1)"
   ]
  },
  {
   "cell_type": "markdown",
   "id": "91184bb3",
   "metadata": {},
   "source": [
    "## Set Operation"
   ]
  },
  {
   "cell_type": "code",
   "execution_count": 46,
   "id": "5b99d173",
   "metadata": {},
   "outputs": [
    {
     "name": "stdout",
     "output_type": "stream",
     "text": [
      "s1 =  {1, 2, 3, 4}\n",
      "s2 =  {3, 4, 5, 'Suraj', 9}\n",
      "s3 =  {1, 2, 3, 7, 8, 9, 10}\n",
      "\n",
      "Union of s1 and s2 = {1, 2, 3, 4, 5, 9, 'Suraj'}\n",
      "\n",
      "Intersection of s1 and s2 = {3, 4}\n",
      "Help on method_descriptor:\n",
      "\n",
      "intersection_update(...)\n",
      "    Update a set with the intersection of itself and another.\n",
      "\n",
      "s1= {1, 2, 3, 4} s2= {3, 4, 5, 'Suraj', 9}\n",
      "\n",
      "Intersection Update of s1 and s2:\n",
      "{3, 4}\n"
     ]
    }
   ],
   "source": [
    "s1 = {1, 2, 3, 4}\n",
    "s2 = {3, 4, 5, \"Suraj\", 9}\n",
    "s3 = {9, 2, 1, 3, 7, 8, 10}\n",
    "\n",
    "print(\"s1 = \", s1)\n",
    "print(\"s2 = \", s2)\n",
    "print(\"s3 = \", s3)\n",
    "\n",
    "# Union\n",
    "un = s1.union(s2)\n",
    "print(\"\\nUnion of s1 and s2 =\", un)\n",
    "\n",
    "# Intersection\n",
    "inter = s1.intersection(s2)\n",
    "print(\"\\nIntersection of s1 and s2 =\", inter)\n",
    "\n",
    "help(set.intersection_update)\n",
    "\n",
    "# Intersection_update (a = a-b)\n",
    "print(\"s1=\",s1, \"s2=\",s2)\n",
    "s1.intersection_update(s2)\n",
    "print(\"\\nIntersection Update of s1 and s2:\")\n",
    "print(s1)"
   ]
  },
  {
   "cell_type": "code",
   "execution_count": 50,
   "id": "2203fa09",
   "metadata": {},
   "outputs": [
    {
     "name": "stdout",
     "output_type": "stream",
     "text": [
      "s1= set() s2= {3, 4, 5, 'Suraj', 9}\n",
      "\n",
      "Difference of s2 and s1: {3, 4, 5, 'Suraj', 9}\n",
      "s1= set() s2= {3, 4, 5, 'Suraj', 9}\n",
      "\n",
      "Difference_update of s1 and s2: {3, 4, 5, 'Suraj', 9}\n"
     ]
    }
   ],
   "source": [
    "# Difference (  s1-s2 = s1 - (s1 n s2)  )\n",
    "print(\"s1=\",s1, \"s2=\",s2)\n",
    "diff = s2.difference(s1)\n",
    "print(\"\\nDifference of s2 and s1:\", diff)\n",
    "\n",
    "# difference_update ()\n",
    "print(\"s1=\",s1, \"s2=\",s2)\n",
    "diffUpdate = s2.difference_update(s1)\n",
    "print(\"\\nDifference_update of s1 and s2:\", s2)"
   ]
  },
  {
   "cell_type": "code",
   "execution_count": 53,
   "id": "0afaded2",
   "metadata": {},
   "outputs": [
    {
     "name": "stdout",
     "output_type": "stream",
     "text": [
      "s1= {1, 2, 3, 4} s2= {4, 5, 6}\n",
      "{1, 2, 3, 5, 6}\n"
     ]
    }
   ],
   "source": [
    "# symmetric_difference()\n",
    "# (A -B) u (B -A)\n",
    "\n",
    "s1 = {1, 2, 3, 4}\n",
    "s2 = {4, 5, 6}\n",
    "print(\"s1=\",s1, \"s2=\",s2)    \n",
    "\n",
    "s3 = s1.symmetric_difference(s2)\n",
    "      \n",
    "print(s3)"
   ]
  },
  {
   "cell_type": "markdown",
   "id": "342d2d2e",
   "metadata": {},
   "source": [
    "### Remove items from a SET"
   ]
  },
  {
   "cell_type": "code",
   "execution_count": 67,
   "id": "981aa433",
   "metadata": {},
   "outputs": [
    {
     "name": "stdout",
     "output_type": "stream",
     "text": [
      "s1 = {1, 2, 3, 4, 5, 6}\n",
      "s1 = {2, 3, 4, 5, 6}\n",
      "s1 = {2, 3, 4, 5, 6}\n",
      "s1 = {3, 4, 5, 6}\n",
      "3\n",
      "4\n",
      "s1 = {5, 6}\n",
      "set()\n",
      "After clear(): set()\n",
      "\n",
      "s1 = {5, 6}\n"
     ]
    }
   ],
   "source": [
    "# Using remove() function/method\n",
    "# If not found-> KeyError\n",
    "s1 = {1, 2, 3, 4, 5, 6}\n",
    "print(\"s1 =\", s1)\n",
    "s1.remove(1)\n",
    "# s1.remove(9) #KeyError\n",
    "print(\"s1 =\", s1)\n",
    "\n",
    "\n",
    "\n",
    "# Using discard() method\n",
    "# If not found-> Does Nothing\n",
    "print(\"s1 =\", s1)\n",
    "s1.discard(2)\n",
    "s1.discard(9)\n",
    "print(\"s1 =\", s1)\n",
    "\n",
    "# Remove any element using pop()\n",
    "print(s1.pop())\n",
    "print(s1.pop())\n",
    "print(\"s1 =\", s1)\n",
    "\n",
    "# Deleting entire Elements from a set -> using clear()\n",
    "print(s2)\n",
    "s2.clear()\n",
    "print(\"After clear():\", s2)\n",
    "\n",
    "\n",
    "# Deleting entire set -> using del set_name\n",
    "print(\"\\ns1 =\", s1)\n",
    "del s1\n",
    "# print(\"\\nAfter clear(): s1 =\", s1)"
   ]
  },
  {
   "cell_type": "markdown",
   "id": "6a37c598",
   "metadata": {},
   "source": [
    "### Copy / Subset / Superset"
   ]
  },
  {
   "cell_type": "code",
   "execution_count": 74,
   "id": "d3e6afa8",
   "metadata": {},
   "outputs": [
    {
     "name": "stdout",
     "output_type": "stream",
     "text": [
      "s1= {1, 2, 3, 4, 5} s2= {5, 6, 7, 8, 9}\n",
      "Copy of s1: {1, 2, 3, 4, 5}\n"
     ]
    }
   ],
   "source": [
    "s1 = {1, 2, 3, 4, 5}\n",
    "s2 = {5, 6, 7, 8, 9}\n",
    "print(\"s1=\",s1, \"s2=\",s2)\n",
    "\n",
    "# copy()\n",
    "s3 = s1.copy()\n",
    "print(\"Copy of s1:\", s3)"
   ]
  },
  {
   "cell_type": "code",
   "execution_count": 71,
   "id": "952269b0",
   "metadata": {},
   "outputs": [
    {
     "name": "stdout",
     "output_type": "stream",
     "text": [
      "True\n",
      "True\n"
     ]
    }
   ],
   "source": [
    "# issubset()\n",
    "# issuprset()\n",
    "\n",
    "s1 = {1, 2, 3}\n",
    "s2 = {1, 2}\n",
    "\n",
    "print(s2.issubset(s1))\n",
    "print(s1.issuperset(s2))"
   ]
  },
  {
   "cell_type": "code",
   "execution_count": null,
   "id": "6da7e444",
   "metadata": {},
   "outputs": [],
   "source": []
  },
  {
   "cell_type": "markdown",
   "id": "aa3dc899",
   "metadata": {},
   "source": [
    "<h1 style=\"color:blue; text-align:center; font-size:40px\">Dictionary</h1>"
   ]
  },
  {
   "cell_type": "code",
   "execution_count": 76,
   "id": "7c0ec7c4",
   "metadata": {},
   "outputs": [],
   "source": [
    "# This is the most Important\n",
    "# key-value pairs\n",
    "# Used to store data in key-value pair\n",
    "# mutable\n",
    "# duplicate keys are not allowed"
   ]
  },
  {
   "cell_type": "markdown",
   "id": "c6ed3f84",
   "metadata": {},
   "source": [
    "## Creating a Dictionary"
   ]
  },
  {
   "cell_type": "code",
   "execution_count": 78,
   "id": "961ad216",
   "metadata": {},
   "outputs": [
    {
     "name": "stdout",
     "output_type": "stream",
     "text": [
      "{'a': 34, 'b': 56, 'c': 87}\n",
      "<class 'dict'>\n"
     ]
    }
   ],
   "source": [
    "d1 = {'a':34, 'b':56, 'c':87}\n",
    "print(d1)\n",
    "print(type(d1))"
   ]
  },
  {
   "cell_type": "markdown",
   "id": "670db7cb",
   "metadata": {},
   "source": [
    "## Accessing values"
   ]
  },
  {
   "cell_type": "code",
   "execution_count": 81,
   "id": "c56463c5",
   "metadata": {},
   "outputs": [
    {
     "name": "stdout",
     "output_type": "stream",
     "text": [
      "34\n"
     ]
    }
   ],
   "source": [
    "print(d1['a'])"
   ]
  },
  {
   "cell_type": "code",
   "execution_count": 83,
   "id": "d50f85f1",
   "metadata": {},
   "outputs": [],
   "source": [
    "# to know all the methods in dictionary\n",
    "# dir(dict)"
   ]
  },
  {
   "cell_type": "code",
   "execution_count": 85,
   "id": "816f345b",
   "metadata": {},
   "outputs": [
    {
     "name": "stdout",
     "output_type": "stream",
     "text": [
      "{'brand': 'iPhone 14 pro max', 'year': 2022, 'RAM': [8, 12], 'storage': {'storage1': 128, 'storage2': 512}, '3.5mm jack': False, 'color': ['Gold', 'Silver']}\n"
     ]
    }
   ],
   "source": [
    "mobile_dict = {'brand':'iPhone 14 pro max', 'year':2022, 'RAM':[8, 12], 'storage':{'storage1':128, 'storage2':512}, '3.5mm jack':False, 'color':['Gold', 'Silver']}\n",
    "\n",
    "print(mobile_dict)"
   ]
  },
  {
   "cell_type": "code",
   "execution_count": 91,
   "id": "9cfc1a2e",
   "metadata": {},
   "outputs": [
    {
     "name": "stdout",
     "output_type": "stream",
     "text": [
      "Brand = iPhone 14 pro max\n",
      "Storage = {'storage1': 128, 'storage2': 512}\n",
      "Color = ['Gold', 'Silver']\n",
      "Storage1 = 128\n",
      "RAM = 12\n"
     ]
    }
   ],
   "source": [
    "print(\"Brand =\", mobile_dict['brand'])\n",
    "print(\"Storage =\", mobile_dict['storage'])\n",
    "print(\"Color =\", mobile_dict['color'])\n",
    "\n",
    "# Accessing Nested value (Dictionary/Set)\n",
    "print(\"Storage1 =\", mobile_dict['storage']['storage1'])\n",
    "\n",
    "# Accessing Nested value (List)\n",
    "print(\"RAM =\", mobile_dict['RAM'][1])"
   ]
  },
  {
   "cell_type": "code",
   "execution_count": null,
   "id": "971c96f7",
   "metadata": {},
   "outputs": [],
   "source": [
    "## Accessing Disctionaries"
   ]
  },
  {
   "cell_type": "code",
   "execution_count": 96,
   "id": "16669a04",
   "metadata": {},
   "outputs": [
    {
     "name": "stdout",
     "output_type": "stream",
     "text": [
      "dict_keys(['a', 'b', 'c'])\n"
     ]
    },
    {
     "data": {
      "text/plain": [
       "dict_keys(['brand', 'year', 'RAM', 'storage', '3.5mm jack', 'color'])"
      ]
     },
     "execution_count": 96,
     "metadata": {},
     "output_type": "execute_result"
    }
   ],
   "source": [
    "d1 = {'a':34, 'b':56, 'c':87}\n",
    "mobile_dict = {'brand':'iPhone 14 pro max', 'year':2022, 'RAM':[8, 12], 'storage':{'storage1':128, 'storage2':512}, '3.5mm jack':False, 'color':['Gold', 'Silver']}\n",
    "\n",
    "\n",
    "# keys()\n",
    "print(d1.keys())\n",
    "\n",
    "mobile_dict.keys()"
   ]
  },
  {
   "cell_type": "code",
   "execution_count": 99,
   "id": "f019b440",
   "metadata": {},
   "outputs": [
    {
     "name": "stdout",
     "output_type": "stream",
     "text": [
      "dict_items([('a', 34), ('b', 56), ('c', 87)])\n",
      "\n",
      "dict_items([('brand', 'iPhone 14 pro max'), ('year', 2022), ('RAM', [8, 12]), ('storage', {'storage1': 128, 'storage2': 512}), ('3.5mm jack', False), ('color', ['Gold', 'Silver'])])\n"
     ]
    }
   ],
   "source": [
    "# items()\n",
    "\n",
    "print(d1.items())\n",
    "print()\n",
    "print(mobile_dict.items())"
   ]
  },
  {
   "cell_type": "code",
   "execution_count": 104,
   "id": "f7fa8844",
   "metadata": {},
   "outputs": [
    {
     "name": "stdout",
     "output_type": "stream",
     "text": [
      "brand -> iPhone 14 pro max\n",
      "year -> 2022\n",
      "RAM -> [8, 12]\n",
      "storage -> {'storage1': 128, 'storage2': 512}\n",
      "3.5mm jack -> False\n",
      "color -> ['Gold', 'Silver']\n",
      "\n",
      "\n",
      "brand\n",
      "year\n",
      "RAM\n",
      "storage\n",
      "3.5mm jack\n",
      "color\n",
      "\n",
      "\n",
      "iPhone 14 pro max\n",
      "2022\n",
      "[8, 12]\n",
      "{'storage1': 128, 'storage2': 512}\n",
      "False\n",
      "['Gold', 'Silver']\n"
     ]
    }
   ],
   "source": [
    "# Traversing the Dictionary\n",
    "# using items()  or  keys()  or  values()\n",
    "\n",
    "for k, v in mobile_dict.items():\n",
    "    print(k, \"->\", v)\n",
    "    \n",
    "    \n",
    "print(\"\\n\")\n",
    "for k in mobile_dict.keys():\n",
    "    print(k)\n",
    "    \n",
    "print(\"\\n\")\n",
    "for v in mobile_dict.values():\n",
    "    print(v)\n"
   ]
  },
  {
   "cell_type": "code",
   "execution_count": null,
   "id": "fcebe5f4",
   "metadata": {},
   "outputs": [],
   "source": [
    "## Updating the dictionary"
   ]
  },
  {
   "cell_type": "code",
   "execution_count": 111,
   "id": "01b2511c",
   "metadata": {},
   "outputs": [
    {
     "name": "stdout",
     "output_type": "stream",
     "text": [
      "{'brand': 'iPhone 14 pro max', 'year': 2022, 'RAM': [8, 12]}\n",
      "{'brand': 'iPhone 14 pro max', 'year': 2022, 'RAM': [8, 12], 'Camera': 48}\n",
      "{'brand': 'iPhone 14 pro max', 'year': 2022, 'RAM': [8, 12]}\n",
      "{'brand': 'iPhone 14 pro max', 'year': 2022}\n",
      "\n",
      "{'Camera': 48}\n",
      "{}\n"
     ]
    }
   ],
   "source": [
    "# Using update()\n",
    "d2 = {'Camera':48}\n",
    "\n",
    "print(mobile_dict)\n",
    "mobile_dict.update(d2)\n",
    "print(mobile_dict)\n",
    "\n",
    "\n",
    "\n",
    "# Remove elements with particular key-value\n",
    "# Using pop()\n",
    "mobile_dict.pop('Camera')\n",
    "print(mobile_dict)\n",
    "\n",
    "\n",
    "# Remove Last elements\n",
    "# Using popitem()\n",
    "mobile_dict.popitem()\n",
    "print(mobile_dict)\n",
    "\n",
    "\n",
    "print()\n",
    "# Clear all the key-value pairs\n",
    "# clear()\n",
    "print(d2)\n",
    "d2.clear()\n",
    "print(d2)\n",
    "\n",
    "# deleting all the dictionary\n",
    "del d2"
   ]
  },
  {
   "cell_type": "markdown",
   "id": "3f90cf85",
   "metadata": {},
   "source": [
    "## Some Programs"
   ]
  },
  {
   "cell_type": "code",
   "execution_count": 113,
   "id": "313be2d4",
   "metadata": {},
   "outputs": [
    {
     "name": "stdout",
     "output_type": "stream",
     "text": [
      "{'a': 34, 'b': 56, 'c': 87}\n",
      "sum = 177\n"
     ]
    }
   ],
   "source": [
    "# WAP to aum all the values in the dictionary\n",
    "\n",
    "print(d1)\n",
    "\n",
    "sum = 0\n",
    "for i in d1:\n",
    "    sum+=d1[i]\n",
    "    \n",
    "print(\"Sum =\", sum)"
   ]
  },
  {
   "cell_type": "code",
   "execution_count": 115,
   "id": "6b278953",
   "metadata": {},
   "outputs": [
    {
     "name": "stdout",
     "output_type": "stream",
     "text": [
      "{'S': 2, 'u': 2, 'r': 2, 'a': 3, 'j': 1, ' ': 2, 'K': 1, 'm': 1, 'h': 1}\n"
     ]
    }
   ],
   "source": [
    "# WAP to count total number of occurrences of each letter/character in a string\n",
    "\n",
    "str1 = \"Suraj Kumar Sah\"\n",
    "\n",
    "d3 = {}\n",
    "\n",
    "for char in str1:\n",
    "    d3[char] = str1.count(char)\n",
    "\n",
    "    \n",
    "print(d3)"
   ]
  },
  {
   "cell_type": "code",
   "execution_count": null,
   "id": "ed924b31",
   "metadata": {},
   "outputs": [],
   "source": []
  }
 ],
 "metadata": {
  "kernelspec": {
   "display_name": "Python 3 (ipykernel)",
   "language": "python",
   "name": "python3"
  },
  "language_info": {
   "codemirror_mode": {
    "name": "ipython",
    "version": 3
   },
   "file_extension": ".py",
   "mimetype": "text/x-python",
   "name": "python",
   "nbconvert_exporter": "python",
   "pygments_lexer": "ipython3",
   "version": "3.11.5"
  }
 },
 "nbformat": 4,
 "nbformat_minor": 5
}
