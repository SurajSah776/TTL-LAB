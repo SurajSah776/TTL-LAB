{
 "cells": [
  {
   "cell_type": "markdown",
   "id": "f4ec27d5",
   "metadata": {},
   "source": [
    "# String"
   ]
  },
  {
   "cell_type": "markdown",
   "id": "e1f3bdb7",
   "metadata": {},
   "source": [
    "### 1. Ways of Assigning String"
   ]
  },
  {
   "cell_type": "code",
   "execution_count": 1,
   "id": "708995bf",
   "metadata": {},
   "outputs": [
    {
     "name": "stdout",
     "output_type": "stream",
     "text": [
      "Suraj Kumar Sah\n",
      "<class 'str'>\n"
     ]
    }
   ],
   "source": [
    "str1 = \"Suraj Kumar Sah\"\n",
    "print(str1)\n",
    "print(type(str1))"
   ]
  },
  {
   "cell_type": "code",
   "execution_count": 2,
   "id": "21016837",
   "metadata": {},
   "outputs": [
    {
     "name": "stdout",
     "output_type": "stream",
     "text": [
      "R\n",
      "<class 'str'>\n"
     ]
    }
   ],
   "source": [
    "# There is No Character Datatype in python\n",
    "str2 = 'R'\n",
    "print(str2)\n",
    "print(type(str2))"
   ]
  },
  {
   "cell_type": "code",
   "execution_count": 3,
   "id": "84f9079a",
   "metadata": {},
   "outputs": [
    {
     "name": "stdout",
     "output_type": "stream",
     "text": [
      "\n",
      "Suraj Kumar Sah\n",
      "Roll-21053469\n",
      "\n",
      "<class 'str'>\n"
     ]
    }
   ],
   "source": [
    "str3 = \"\"\"\n",
    "Suraj Kumar Sah\n",
    "Roll-21053469\n",
    "\"\"\"\n",
    "print(str3)\n",
    "print(type(str3))"
   ]
  },
  {
   "cell_type": "markdown",
   "id": "521ebec7",
   "metadata": {},
   "source": [
    "### 2. Looping through string"
   ]
  },
  {
   "cell_type": "code",
   "execution_count": 4,
   "id": "0af2bd5b",
   "metadata": {},
   "outputs": [
    {
     "name": "stdout",
     "output_type": "stream",
     "text": [
      "N E P A L \n",
      "S u r a j   K u m a r   S a h "
     ]
    }
   ],
   "source": [
    "for i in \"NEPAL\":\n",
    "    print(i, end=\" \")\n",
    "    \n",
    "\n",
    "print()\n",
    "for i in str1:\n",
    "    print(i, end=\" \")"
   ]
  },
  {
   "cell_type": "code",
   "execution_count": 5,
   "id": "40c3d09c",
   "metadata": {},
   "outputs": [
    {
     "name": "stdout",
     "output_type": "stream",
     "text": [
      "15\n"
     ]
    }
   ],
   "source": [
    "#Length of the string\n",
    "print(len(str1))"
   ]
  },
  {
   "cell_type": "markdown",
   "id": "c2611401",
   "metadata": {},
   "source": [
    "### 3. Check in string"
   ]
  },
  {
   "cell_type": "code",
   "execution_count": 6,
   "id": "aa61fe8c",
   "metadata": {},
   "outputs": [
    {
     "name": "stdout",
     "output_type": "stream",
     "text": [
      "True\n",
      "False\n"
     ]
    }
   ],
   "source": [
    "#Search/Check a particular word/character in a phrase\n",
    "str4 = \"Computer Science and Engineering\"\n",
    "print(\"and\" in str4)\n",
    "print(\"and\" not in str4)"
   ]
  },
  {
   "cell_type": "markdown",
   "id": "b8a8e471",
   "metadata": {},
   "source": [
    "### 4. Slicing/Indexing"
   ]
  },
  {
   "cell_type": "code",
   "execution_count": 7,
   "id": "926f8f7d",
   "metadata": {},
   "outputs": [
    {
     "name": "stdout",
     "output_type": "stream",
     "text": [
      "Suraj Kumar Sah\n",
      "S\n",
      " \n",
      "h\n",
      "h\n",
      "raj\n",
      "Kuma\n",
      " .  \n",
      " .  \n",
      "j Kumar Sah\n",
      "Sur\n",
      "SrjKmrS\n"
     ]
    }
   ],
   "source": [
    "#Dividing the string into number of Substring\n",
    "\"\"\"\n",
    "S   U   R   A   J\n",
    "0   1   2   3   4\n",
    "-5 -4  -3  -2  -1\n",
    "\"\"\"\n",
    "str1=\"Suraj Kumar Sah\"\n",
    "\n",
    "print(str1)\n",
    "print(str1[0])\n",
    "print(str1[11])\n",
    "print(str1[len(str1)-1])\n",
    "print(str1[-1])\n",
    "\n",
    "\n",
    "print(str1[2:5])\n",
    "print(str1[-9:-5])\n",
    "print(\" . \",str1[-4:5])\n",
    "print(\" . \",str1[-5:-9])\n",
    "print(str1[4:])\n",
    "\n",
    "print(str1[:3])\n",
    "\n",
    "print(str1[0:14:2]) #start, end, step"
   ]
  },
  {
   "cell_type": "code",
   "execution_count": 8,
   "id": "945dd71d",
   "metadata": {},
   "outputs": [
    {
     "name": "stdout",
     "output_type": "stream",
     "text": [
      "S\n"
     ]
    }
   ],
   "source": [
    "#Strings are Immutable\n",
    "str6=\"Suraj Sah\"\n",
    "print(str6[6])\n"
   ]
  },
  {
   "cell_type": "markdown",
   "id": "8a2d322d",
   "metadata": {},
   "source": [
    "### 4. String Functions"
   ]
  },
  {
   "cell_type": "code",
   "execution_count": 9,
   "id": "9c19ae56",
   "metadata": {},
   "outputs": [
    {
     "name": "stdout",
     "output_type": "stream",
     "text": [
      "capitalize()\n",
      "suraj Kumar Sah\n",
      "Suraj kumar sah\n",
      "suraj Kumar Sah\n",
      "\n",
      "lower()\n",
      "suraj kumar sah\n",
      "\n",
      "upper()\n",
      "SURAJ KUMAR SAH\n",
      "\n",
      "islower()\n",
      "False\n",
      "\n",
      "isupper()\n",
      "False\n",
      "\n",
      "isalpha()\n",
      "True\n",
      "\n",
      "isalnum()\n",
      "True\n",
      "True\n",
      "False\n"
     ]
    }
   ],
   "source": [
    "str1=\"suraj Kumar Sah\"\n",
    "\n",
    "\n",
    "# .capitalize()\n",
    "print(\"capitalize()\")\n",
    "print(str1)\n",
    "print(str1.capitalize())\n",
    "print(str1)\n",
    "\n",
    "# .lower()\n",
    "print(\"\\nlower()\")\n",
    "print(str1.lower())\n",
    "\n",
    "# .upper()\n",
    "print(\"\\nupper()\")\n",
    "print(str1.upper())\n",
    "\n",
    "# .islower()\n",
    "print(\"\\nislower()\")\n",
    "print(str1.islower())\n",
    "\n",
    "# .isupper()\n",
    "print(\"\\nisupper()\")\n",
    "print(str1.isupper())\n",
    "\n",
    "# .isalpha()\n",
    "print(\"\\nisalpha()\")\n",
    "str20=\"Suraj\"\n",
    "print(str20.isalpha())\n",
    "\n",
    "\n",
    "# .isalnum()\n",
    "print(\"\\nisalnum()\")\n",
    "print(\"Suraj\".isalnum())\n",
    "print(\"123\".isalnum())\n",
    "print(\"@Suraj\".isalnum())"
   ]
  },
  {
   "cell_type": "markdown",
   "id": "df4bb7c1",
   "metadata": {},
   "source": [
    "### Padding Function"
   ]
  },
  {
   "cell_type": "code",
   "execution_count": 10,
   "id": "fb1bd3a8",
   "metadata": {},
   "outputs": [
    {
     "name": "stdout",
     "output_type": "stream",
     "text": [
      "Suraj Kumar Sah\n",
      "\n",
      ".rjust()\n",
      "     Suraj Kumar Sah\n",
      "*****Suraj Kumar Sah\n",
      "\n",
      ".ljust()\n",
      "Suraj Kumar Sah     \n",
      "Suraj Kumar Sah*****\n",
      "\n",
      ".center()\n",
      "                 Suraj Kumar Sah                  \n",
      "*****************Suraj Kumar Sah******************\n"
     ]
    }
   ],
   "source": [
    "str1=\"Suraj Kumar Sah\"\n",
    "print(str1)\n",
    "\n",
    "#1. Right Justify:  .rjust(width, fillchar=\" \")\n",
    "print(\"\\n.rjust()\")\n",
    "print(str1.rjust(20))\n",
    "print(str1.rjust(20, \"*\"))\n",
    "\n",
    "\n",
    "\n",
    "#2. Left Justify:  .ljust(width, fillchar=\" \")\n",
    "print(\"\\n.ljust()\")\n",
    "print(str1.ljust(20))\n",
    "print(str1.ljust(20, \"*\"))\n",
    "\n",
    "#2. Center:  .center(width, fillchar=\" \")\n",
    "print(\"\\n.center()\")\n",
    "print(str1.center(50))\n",
    "print(str1.center(50, \"*\"))\n",
    "\n",
    "\n"
   ]
  },
  {
   "cell_type": "markdown",
   "id": "1314bf73",
   "metadata": {},
   "source": [
    "### Search Functions"
   ]
  },
  {
   "cell_type": "code",
   "execution_count": 11,
   "id": "de2c4e38",
   "metadata": {},
   "outputs": [
    {
     "name": "stdout",
     "output_type": "stream",
     "text": [
      "\n",
      ".find()\n",
      "12\n",
      "6\n",
      "-1\n",
      "2\n",
      "\n",
      ".index()\n",
      "12\n",
      "6\n",
      "2\n",
      "\n",
      ".count()\n",
      "3\n",
      "2\n",
      "2\n",
      "1\n",
      "\n",
      ".replace()\n",
      "SurAj KumAr SAh\n",
      "SuRaj KumaR Sah\n",
      "SurAAj Kumar Sah\n",
      "\n",
      ".split()\n",
      "['Suraj', 'Kumar', 'Sah']\n",
      "['Suraj', 'Kumar', 'Sah']\n",
      "['She', 'is', 'a', 'very Genius Student']\n"
     ]
    }
   ],
   "source": [
    "# str1 = \"Suraj Kumar Sah\"\n",
    "#1. find:  .find(sub[,end]])\n",
    "print(\"\\n.find()\")\n",
    "print(str1.find(\"Sah\"))\n",
    "print(str1.find(\"Kumar\", 4)) #From index 4\n",
    "\n",
    "print(str1.find(\"kumar\")) #Returns -1\n",
    "print(str1.find(\"raj\", 0, len(str1))) #from start to end\n",
    "\n",
    "\n",
    "#2. index:  .index(sub[,end]])\n",
    "print(\"\\n.index()\")\n",
    "print(str1.index(\"Sah\"))\n",
    "print(str1.index(\"Kumar\", 4)) #From index 4\n",
    "\n",
    "#print(str1.index(\"kumar\")) #Returns ValueError\n",
    "print(str1.index(\"raj\", 0, len(str1))) #from start to end\n",
    "\n",
    "#3. count  .count(str) \n",
    "print(\"\\n.count()\")\n",
    "print(str1.count(\"a\"))\n",
    "print(str1.count(\"r\"))\n",
    "\n",
    "print(str1.count(\"r\", 0))\n",
    "print(str1.count(\"r\", 0, 10))\n",
    "\n",
    "#4. replace  .replace(old, new, count=-1)\n",
    "print(\"\\n.replace()\")\n",
    "print(str1.replace(\"a\", \"A\"))\n",
    "print(str1.replace(\"r\", \"R\"))\n",
    "print(str1.replace(\"a\", \"AA\", 1)) #Replace only First Occurrence \n",
    "\n",
    "#5. split  .split(sep=None, maxsplit=-1)\n",
    "print(\"\\n.split()\")\n",
    "print(str1.split())\n",
    "print(str1.split(sep=None))\n",
    "print(\"She is a very Genius Student\".split(sep=None, maxsplit=3))\n"
   ]
  },
  {
   "cell_type": "markdown",
   "id": "81a08174",
   "metadata": {},
   "source": [
    "### String Concatenation"
   ]
  },
  {
   "cell_type": "code",
   "execution_count": 12,
   "id": "32d0ae1c",
   "metadata": {},
   "outputs": [
    {
     "name": "stdout",
     "output_type": "stream",
     "text": [
      "KIIT University\n",
      "Shree Ram   Shree Ram   Shree Ram   Shree Ram   Shree Ram   \n"
     ]
    }
   ],
   "source": [
    "#Concatenation\n",
    "str1=\"KIIT\"\n",
    "str2=\"University\"\n",
    "print(str1+\" \"+str2)\n",
    "\n",
    "\n",
    "#Repeat String\n",
    "print(\"Shree Ram   \"*5)"
   ]
  },
  {
   "cell_type": "markdown",
   "id": "2d5ed04d",
   "metadata": {},
   "source": [
    "### Formatting Strings"
   ]
  },
  {
   "cell_type": "code",
   "execution_count": 13,
   "id": "970cb4ec",
   "metadata": {},
   "outputs": [
    {
     "name": "stdout",
     "output_type": "stream",
     "text": [
      "My name is Suraj and my roll number is 21053469\n",
      "\n",
      "My name is Suraj and my roll number is 21053469\n",
      "My name is Suraj and my roll number is 21053469\n",
      "My name is 21053469 and my roll number is Suraj\n",
      "\n",
      "My name is Suraj and my roll number is 21053469\n"
     ]
    }
   ],
   "source": [
    "#1st Way- %\n",
    "name=\"Suraj\"\n",
    "roll=21053469\n",
    "print(\"My name is %s and my roll number is %d\"%(name, roll))\n",
    "\n",
    "\n",
    "print()\n",
    "#2nd Way\n",
    "print(\"My name is {} and my roll number is {}\" .format(name, roll))\n",
    "print(\"My name is {0} and my roll number is {1}\" .format(name, roll))\n",
    "print(\"My name is {1} and my roll number is {0}\" .format(name, roll))\n",
    "\n",
    "\n",
    "print()\n",
    "#3rd Way - most preferred Way\n",
    "print(f\"My name is {name} and my roll number is {roll}\")\n"
   ]
  },
  {
   "cell_type": "markdown",
   "id": "aafb8945",
   "metadata": {},
   "source": [
    "### Escape Sequence"
   ]
  },
  {
   "cell_type": "code",
   "execution_count": 14,
   "id": "cdb61eeb",
   "metadata": {},
   "outputs": [
    {
     "name": "stdout",
     "output_type": "stream",
     "text": [
      "Hello World, i'm Suraj\n",
      "\n",
      "Hello World,\t I'm Suraj\n",
      "\n",
      "Hello World,\r",
      "I'm Suraj\n",
      "\n",
      "Hello World, I'm \r",
      "Suraj\n",
      "\n",
      "Hello World, I'm Suraj\n"
     ]
    }
   ],
   "source": [
    "text=\"Hello World, i\\'m Suraj\"\n",
    "print(text)\n",
    "\n",
    "print()\n",
    "text=\"Hello World,\\t I\\'m Suraj\"\n",
    "print(text)\n",
    "\n",
    "print()\n",
    "text=\"Hello World,\\rI\\'m Suraj\"\n",
    "print(text)\n",
    "\n",
    "print()\n",
    "text=\"Hello World, I\\'m \\rSuraj\"\n",
    "print(text)\n",
    "\n",
    "\n",
    "print()\n",
    "text=\"Hello World, I\\'m Suraj\"\n",
    "print(text)"
   ]
  },
  {
   "cell_type": "code",
   "execution_count": null,
   "id": "246cafd8",
   "metadata": {},
   "outputs": [],
   "source": []
  }
 ],
 "metadata": {
  "kernelspec": {
   "display_name": "Python 3 (ipykernel)",
   "language": "python",
   "name": "python3"
  },
  "language_info": {
   "codemirror_mode": {
    "name": "ipython",
    "version": 3
   },
   "file_extension": ".py",
   "mimetype": "text/x-python",
   "name": "python",
   "nbconvert_exporter": "python",
   "pygments_lexer": "ipython3",
   "version": "3.11.5"
  }
 },
 "nbformat": 4,
 "nbformat_minor": 5
}
