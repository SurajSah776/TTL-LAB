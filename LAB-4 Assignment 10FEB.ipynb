{
 "cells": [
  {
   "cell_type": "markdown",
   "id": "4369ba95",
   "metadata": {},
   "source": [
    "<h1 style=\"color:blue; text-align:center; font-size:35px\">\n",
    "LAB-4 Assignment \n",
    "</h1>\n",
    "<h3> Date: 10-02-2024</h3>"
   ]
  },
  {
   "cell_type": "markdown",
   "id": "12550520",
   "metadata": {},
   "source": [
    "## 1. Write a Python program to create a union, intersection, difference, symmetric difference of sets."
   ]
  },
  {
   "cell_type": "code",
   "execution_count": 4,
   "id": "e645aa12",
   "metadata": {},
   "outputs": [
    {
     "name": "stdout",
     "output_type": "stream",
     "text": [
      "s1 =  {1, 2, 3, 4}\n",
      "s2 =  {3, 4, 'Suraj', 5, 9}\n",
      "\n",
      "\n",
      "Union of s1 and s2 = {1, 2, 3, 4, 'Suraj', 5, 9}\n",
      "\n",
      "\n",
      "Intersection of s1 and s2 = {3, 4}\n",
      "\n",
      "\n",
      "Difference of s2 and s1: {9, 5, 'Suraj'}\n",
      "\n",
      "\n",
      "Symmetric Difference of s1 and s2: {9, 5, 'Suraj'}\n",
      "{1, 2, 'Suraj', 5, 9}\n"
     ]
    }
   ],
   "source": [
    "s1 = {1, 2, 3, 4}\n",
    "s2 = {3, 4, 5, \"Suraj\", 9}\n",
    "\n",
    "print(\"s1 = \", s1)\n",
    "print(\"s2 = \", s2)\n",
    "print()\n",
    "\n",
    "# Union\n",
    "un = s1.union(s2)\n",
    "print(\"\\nUnion of s1 and s2 =\", un)\n",
    "print()\n",
    "\n",
    "\n",
    "# Intersection\n",
    "inter = s1.intersection(s2)\n",
    "print(\"\\nIntersection of s1 and s2 =\", inter)\n",
    "print()\n",
    "\n",
    "\n",
    "# Difference\n",
    "diff = s2.difference(s1)\n",
    "print(\"\\nDifference of s2 and s1:\", diff)\n",
    "print()\n",
    "\n",
    "# Symmetric Difference\n",
    "s3 = s1.symmetric_difference(s2)\n",
    "print(\"\\nSymmetric Difference of s1 and s2:\", diff)\n",
    "print(s3)"
   ]
  },
  {
   "cell_type": "markdown",
   "id": "9f5f6188",
   "metadata": {},
   "source": [
    "## 2. Write a Python program to check if two given sets have no elements in common."
   ]
  },
  {
   "cell_type": "code",
   "execution_count": 13,
   "id": "22871a4e",
   "metadata": {},
   "outputs": [
    {
     "name": "stdout",
     "output_type": "stream",
     "text": [
      "There are no common elements\n"
     ]
    }
   ],
   "source": [
    "s1 = {1, 2, 3, 4}\n",
    "s2 = {8, 5, \"Suraj\", 9}\n",
    "\n",
    "s3 = s1.intersection(s2)\n",
    "\n",
    "if s3:\n",
    "    print(\"There are some common elements\")\n",
    "else:\n",
    "    print(\"There are no common elements\")"
   ]
  },
  {
   "cell_type": "markdown",
   "id": "f7d1af29",
   "metadata": {},
   "source": [
    "## 3. Write a Python program to check if a given value is present in a set or not."
   ]
  },
  {
   "cell_type": "code",
   "execution_count": 6,
   "id": "5654ac75",
   "metadata": {},
   "outputs": [
    {
     "name": "stdout",
     "output_type": "stream",
     "text": [
      "Enter value to search :10\n",
      "10 is not present in given set\n"
     ]
    }
   ],
   "source": [
    "s1 = {1, 2, 3, 4, 5, 7, 8, 9}\n",
    "\n",
    "val = int(input(\"Enter value to search :\"))\n",
    "\n",
    "if val in s1:\n",
    "    print(f\"{val} is present in given set\")\n",
    "else:\n",
    "    \n",
    "    print(f\"{val} is not present in given set\")"
   ]
  },
  {
   "cell_type": "markdown",
   "id": "95fff89c",
   "metadata": {},
   "source": [
    "## 4. Write a Python program to remove the intersection of a 2nd set from the 1st set."
   ]
  },
  {
   "cell_type": "code",
   "execution_count": 53,
   "id": "aec87dac",
   "metadata": {},
   "outputs": [
    {
     "name": "stdout",
     "output_type": "stream",
     "text": [
      "s1= {1, 2, 3, 4} s2= {3, 4, 'Suraj', 5, 9}\n",
      "{1, 2}\n"
     ]
    }
   ],
   "source": [
    "s1 = {1, 2, 3, 4}\n",
    "s2 = {3, 4, 5, \"Suraj\", 9}\n",
    "\n",
    "print(\"s1=\", s1, \"s2=\",s2)\n",
    "s3 = s1-s1.intersection(s2)\n",
    "print(s3)"
   ]
  },
  {
   "cell_type": "markdown",
   "id": "482f1e77",
   "metadata": {},
   "source": [
    "## 5. Write a Python program to multiply all values in the dictionary."
   ]
  },
  {
   "cell_type": "code",
   "execution_count": 24,
   "id": "53753bd5",
   "metadata": {},
   "outputs": [
    {
     "name": "stdout",
     "output_type": "stream",
     "text": [
      "Multipled Value = 60\n"
     ]
    }
   ],
   "source": [
    "d1 = {'a':3, 'b':5, 'c':4}\n",
    "\n",
    "product = 1\n",
    "for v in d1.values():\n",
    "    product *= v\n",
    "    \n",
    "print(\"Multipled Value =\", product)"
   ]
  },
  {
   "cell_type": "markdown",
   "id": "450dc44c",
   "metadata": {},
   "source": [
    "## 6. Write a Python program to combine two dictionary adding values for common keys.\n",
    "### dict1 = {'k1': 10, 'k2': 20, 'k3':30}\n",
    "### dict2 {'k1': 30, 'k2': 20, 'k4':40}\n",
    "### Sample Output: {'k1': 40, 'k2': 40, 'k3': 30, 'k4': 40}"
   ]
  },
  {
   "cell_type": "code",
   "execution_count": 62,
   "id": "950ae1b6",
   "metadata": {},
   "outputs": [
    {
     "name": "stdout",
     "output_type": "stream",
     "text": [
      "{'k1': 40, 'k2': 40, 'k3': 30, 'k4': 40}\n"
     ]
    }
   ],
   "source": [
    "def combined(dict1, dict2):\n",
    "    d3 = {}\n",
    "    for key in dict1:\n",
    "        d3[key] = dict1[key]\n",
    "    for key in dict2:\n",
    "        if key in d3:\n",
    "            d3[key] += dict2[key]\n",
    "        else:\n",
    "            d3[key] = dict2[key]\n",
    "    return d3\n",
    "\n",
    "\n",
    "dict1 = {'k1': 10, 'k2': 20, 'k3': 30}\n",
    "dict2 = {'k1': 30, 'k2': 20, 'k4': 40}\n",
    "dict3 = combined(dict1, dict2)\n",
    "print(dict3)"
   ]
  },
  {
   "cell_type": "markdown",
   "id": "25a3c36d",
   "metadata": {},
   "source": [
    "## 7. Write a Python program to create a dictionary from a string.\n",
    "#### Note: Track the count of the letters from the string.\n",
    "#### Sample string: 'amazon'\n",
    "#### Expected output: {'a': 2, 'm': 1, 'z': 1, 'o': 1, 'n': 1}"
   ]
  },
  {
   "cell_type": "code",
   "execution_count": 21,
   "id": "5c60f022",
   "metadata": {},
   "outputs": [
    {
     "name": "stdout",
     "output_type": "stream",
     "text": [
      "Enter any String :amazon\n",
      "{'a': 2, 'm': 1, 'z': 1, 'o': 1, 'n': 1}\n"
     ]
    }
   ],
   "source": [
    "str1 = input(\"Enter any String :\")\n",
    "\n",
    "d3 = {}\n",
    "\n",
    "for char in str1:\n",
    "    d3[char] = str1.count(char)\n",
    "\n",
    "print(d3)"
   ]
  },
  {
   "cell_type": "markdown",
   "id": "75a061c4",
   "metadata": {},
   "source": [
    "## 8. Write a Python program to drop empty Items from a given Dictionary.\n",
    "#### Original Dictionary:\n",
    "#### {'cl': 'CS, 'c2': 'IT', 'c3': None}\n",
    "#### New Dictionary after dropping empty items:\n",
    "#### {'cl': 'CS', 'c2': 'IT'}"
   ]
  },
  {
   "cell_type": "code",
   "execution_count": 46,
   "id": "785bc656",
   "metadata": {},
   "outputs": [
    {
     "name": "stdout",
     "output_type": "stream",
     "text": [
      "{'cl': 'CS', 'c2': 'IT', 'c3': None}\n",
      "{'cl': 'CS', 'c2': 'IT'}\n"
     ]
    }
   ],
   "source": [
    "d1 = {'cl': 'CS', 'c2': 'IT', 'c3': None}\n",
    "print(d1)\n",
    "        \n",
    "d1.pop('c3')\n",
    "\n",
    "print(d1)"
   ]
  },
  {
   "cell_type": "code",
   "execution_count": 61,
   "id": "f5fa0755",
   "metadata": {},
   "outputs": [
    {
     "name": "stdout",
     "output_type": "stream",
     "text": [
      "{'cl': 'CS', 'c2': 'IT'}\n"
     ]
    }
   ],
   "source": [
    "def drop_empty(data):\n",
    "    return {key: value for key, value in data.items() if value}\n",
    "\n",
    "\n",
    "data = {'cl': 'CS', 'c2': 'IT', 'c3': None}\n",
    "filt = drop_empty(data)\n",
    "print(filt)"
   ]
  }
 ],
 "metadata": {
  "kernelspec": {
   "display_name": "Python 3 (ipykernel)",
   "language": "python",
   "name": "python3"
  },
  "language_info": {
   "codemirror_mode": {
    "name": "ipython",
    "version": 3
   },
   "file_extension": ".py",
   "mimetype": "text/x-python",
   "name": "python",
   "nbconvert_exporter": "python",
   "pygments_lexer": "ipython3",
   "version": "3.11.5"
  }
 },
 "nbformat": 4,
 "nbformat_minor": 5
}
