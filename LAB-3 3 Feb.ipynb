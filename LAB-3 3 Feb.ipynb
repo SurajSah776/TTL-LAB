{
 "cells": [
  {
   "cell_type": "markdown",
   "id": "279fa39a",
   "metadata": {},
   "source": [
    "# LIST"
   ]
  },
  {
   "cell_type": "code",
   "execution_count": 1,
   "id": "7b4f5585",
   "metadata": {},
   "outputs": [],
   "source": [
    "# List is mutable"
   ]
  },
  {
   "cell_type": "markdown",
   "id": "d583a02e",
   "metadata": {},
   "source": [
    "## 1. Creating a List"
   ]
  },
  {
   "cell_type": "code",
   "execution_count": 2,
   "id": "397e812a",
   "metadata": {},
   "outputs": [
    {
     "name": "stdout",
     "output_type": "stream",
     "text": [
      "[2, 1, 0, 5, 3, 4, 6, 9]\n"
     ]
    },
    {
     "data": {
      "text/plain": [
       "list"
      ]
     },
     "execution_count": 2,
     "metadata": {},
     "output_type": "execute_result"
    }
   ],
   "source": [
    "# List of same data type\n",
    "l1 = [2, 1, 0, 5, 3, 4, 6, 9]\n",
    "print(l1)\n",
    "type(l1)"
   ]
  },
  {
   "cell_type": "code",
   "execution_count": 3,
   "id": "18c00a8f",
   "metadata": {},
   "outputs": [
    {
     "name": "stdout",
     "output_type": "stream",
     "text": [
      "['Suraj Kumar Sah', 21053469, 9.28]\n"
     ]
    },
    {
     "data": {
      "text/plain": [
       "list"
      ]
     },
     "execution_count": 3,
     "metadata": {},
     "output_type": "execute_result"
    }
   ],
   "source": [
    "# List can contain different data types\n",
    "l2 = [\"Suraj Kumar Sah\", 21053469, 9.28]\n",
    "print(l2)\n",
    "type(l2)"
   ]
  },
  {
   "cell_type": "code",
   "execution_count": 4,
   "id": "35e08f09",
   "metadata": {},
   "outputs": [
    {
     "name": "stdout",
     "output_type": "stream",
     "text": [
      "[2, 1, 0, 5, 3, 4, 6, 9]\n"
     ]
    },
    {
     "data": {
      "text/plain": [
       "list"
      ]
     },
     "execution_count": 4,
     "metadata": {},
     "output_type": "execute_result"
    }
   ],
   "source": [
    "# Using list() constructor\n",
    "\n",
    "l3=list((2,1,0,5,3,4,6,9))\n",
    "print(l3)\n",
    "type(l3)"
   ]
  },
  {
   "cell_type": "code",
   "execution_count": 5,
   "id": "148cd26f",
   "metadata": {},
   "outputs": [
    {
     "name": "stdout",
     "output_type": "stream",
     "text": [
      "['Suraj Sah', 21053469, 9.28]\n"
     ]
    }
   ],
   "source": [
    "# Modifying List\n",
    "l2[0] = \"Suraj Sah\"\n",
    "print(l2)"
   ]
  },
  {
   "cell_type": "markdown",
   "id": "a950d129",
   "metadata": {},
   "source": [
    "## 2. Slicing a List"
   ]
  },
  {
   "cell_type": "code",
   "execution_count": 6,
   "id": "6b802d25",
   "metadata": {},
   "outputs": [
    {
     "name": "stdout",
     "output_type": "stream",
     "text": [
      "[2, 1, 0, 5, 3, 4, 6, 9]\n",
      "[2, 1, 0, 5, 3, 4, 6, 9]\n",
      "[2, 1, 0, 5, 3, 4, 6]\n",
      "Reverse: [9, 6, 4, 3, 5, 0, 1, 2]\n",
      "[2, 0, 3]\n",
      "[2, 0, 3, 6]\n"
     ]
    }
   ],
   "source": [
    "# Slicing\n",
    "\n",
    "l4 = [2, 1, 0, 5, 3, 4, 6, 9]\n",
    "\n",
    "print(l4[:])\n",
    "print(l4[0:])\n",
    "print(l4[:-1])\n",
    "\n",
    "#Reverse\n",
    "print(\"Reverse:\",l4[::-1])\n",
    "\n",
    "print(l4[0:6:2])\n",
    "print(l4[::2])"
   ]
  },
  {
   "cell_type": "code",
   "execution_count": 7,
   "id": "e5b401d4",
   "metadata": {},
   "outputs": [
    {
     "name": "stdout",
     "output_type": "stream",
     "text": [
      "[2, 1, 0, 5, 3, 4, 6, 9]\n",
      "[2, 1, 2, 3, 3, 4, 6, 9]\n"
     ]
    }
   ],
   "source": [
    "# Multiple Assignment\n",
    "print(l4)\n",
    "l4[1:4] = [1, 2, 3]\n",
    "print(l4)"
   ]
  },
  {
   "cell_type": "markdown",
   "id": "5cb58f72",
   "metadata": {},
   "source": [
    "## 3. Appending a List"
   ]
  },
  {
   "cell_type": "code",
   "execution_count": 8,
   "id": "65b24ed4",
   "metadata": {},
   "outputs": [
    {
     "name": "stdout",
     "output_type": "stream",
     "text": [
      "[2, 1, 0, 5, 3, 4, 6, 9]\n",
      "[2, 1, 0, 5, 3, 4, 6, 9, 'Appended']\n"
     ]
    }
   ],
   "source": [
    "print(l1)\n",
    "\n",
    "l1.append(\"Appended\")\n",
    "\n",
    "print(l1)"
   ]
  },
  {
   "cell_type": "markdown",
   "id": "f4bb643c",
   "metadata": {},
   "source": [
    "# Appending list from user input\n"
   ]
  },
  {
   "cell_type": "code",
   "execution_count": 9,
   "id": "6361c7a0",
   "metadata": {},
   "outputs": [
    {
     "name": "stdout",
     "output_type": "stream",
     "text": [
      "Enter a Number: 4\n",
      "Do you want to continue (y/n): y\n",
      "Enter a Number: 5\n",
      "Do you want to continue (y/n): n\n",
      "[4, 5]\n"
     ]
    }
   ],
   "source": [
    "l=[]\n",
    "choice = 'Y'\n",
    "while(choice=='Y' or choice=='y'):\n",
    "    num = int(input(\"Enter a Number: \"))\n",
    "    l.append(num)\n",
    "    choice = input(\"Do you want to continue (y/n): \")\n",
    "    \n",
    "print(l)"
   ]
  },
  {
   "cell_type": "code",
   "execution_count": 10,
   "id": "441af2eb",
   "metadata": {},
   "outputs": [
    {
     "name": "stdout",
     "output_type": "stream",
     "text": [
      "[2, 1, 0, 5, 3, 4, 6, 9, 'Appended']\n",
      "[0, 2, 1, 0, 5, 3, 4, 6, 9, 'Appended']\n"
     ]
    }
   ],
   "source": [
    "# insert(position, value)\n",
    "\n",
    "print(l1)\n",
    "l1.insert(0, 0)\n",
    "\n",
    "print(l1)"
   ]
  },
  {
   "cell_type": "code",
   "execution_count": 11,
   "id": "a5cbee43",
   "metadata": {},
   "outputs": [
    {
     "name": "stdout",
     "output_type": "stream",
     "text": [
      "['a', 'b', 1, 2, 3]\n"
     ]
    }
   ],
   "source": [
    "# extend()\n",
    "\n",
    "l1=['a', 'b']\n",
    "l2=[1, 2, 3]\n",
    "\n",
    "l1.extend(l2)\n",
    "\n",
    "print(l1)"
   ]
  },
  {
   "cell_type": "code",
   "execution_count": 12,
   "id": "acfc2528",
   "metadata": {},
   "outputs": [
    {
     "name": "stdout",
     "output_type": "stream",
     "text": [
      "['a', 'b', 1, 2, 3]\n",
      "['a', 'b', 1, 2]\n"
     ]
    }
   ],
   "source": [
    "# remove() ->remove first occured element\n",
    "\n",
    "print(l1)\n",
    "l1.remove(3)\n",
    "print(l1)"
   ]
  },
  {
   "cell_type": "code",
   "execution_count": 13,
   "id": "a9cee586",
   "metadata": {},
   "outputs": [
    {
     "name": "stdout",
     "output_type": "stream",
     "text": [
      "['a', 'b', 1, 2]\n",
      "['a', 'b', 2]\n"
     ]
    }
   ],
   "source": [
    "# pop()\n",
    "\n",
    "print(l1)\n",
    "\n",
    "l1.pop(2)\n",
    "print(l1)\n"
   ]
  },
  {
   "cell_type": "code",
   "execution_count": 14,
   "id": "3d521582",
   "metadata": {},
   "outputs": [
    {
     "name": "stdout",
     "output_type": "stream",
     "text": [
      "[1, 2, 3, 4, 6]\n",
      "[1, 2, 4, 6]\n"
     ]
    }
   ],
   "source": [
    "# del\n",
    "\n",
    "l1=[1,2,3,4,6]\n",
    "print(l1)\n",
    "del l1[2]\n",
    "print(l1)\n",
    "\n",
    "\n",
    "# delete all list\n",
    "del l1\n"
   ]
  },
  {
   "cell_type": "markdown",
   "id": "212ddd56",
   "metadata": {},
   "source": [
    "## Looping through List"
   ]
  },
  {
   "cell_type": "code",
   "execution_count": 15,
   "id": "f0b8a56f",
   "metadata": {},
   "outputs": [
    {
     "name": "stdout",
     "output_type": "stream",
     "text": [
      "1 2 3 4 5 6 7 8 \n",
      "1 2 3 4 5 6 7 8 "
     ]
    }
   ],
   "source": [
    "# for loop\n",
    "\n",
    "l1=[1, 2, 3, 4, 5, 6, 7, 8]\n",
    "\n",
    "for i in l1:\n",
    "    print(i, end=\" \")\n",
    "    \n",
    "    \n",
    "print()\n",
    "\n",
    "for index in range(len(l1)):\n",
    "    print(l1[index], end = \" \")"
   ]
  },
  {
   "cell_type": "code",
   "execution_count": 16,
   "id": "271f28c2",
   "metadata": {},
   "outputs": [
    {
     "name": "stdout",
     "output_type": "stream",
     "text": [
      "[1, 2, 3, 4, 5, 6]\n",
      "[2, 4, 6, 8, 10, 12]\n"
     ]
    }
   ],
   "source": [
    "# creating list from another list\n",
    "\n",
    "l1=[1, 2, 3, 4, 5, 6]\n",
    "l2=[]\n",
    "\n",
    "for index in range(len(l1)):\n",
    "    l2.append(l1[index]*2)\n",
    "    \n",
    "    \n",
    "print(l1)\n",
    "print(l2)"
   ]
  },
  {
   "cell_type": "code",
   "execution_count": 17,
   "id": "f12ce973",
   "metadata": {},
   "outputs": [
    {
     "name": "stdout",
     "output_type": "stream",
     "text": [
      "[1, 4, 9, 16, 25, 36, 49, 64, 81, 100]\n",
      "[1, 8, 27, 64, 125, 216, 343, 512, 729, 1000]\n"
     ]
    }
   ],
   "source": [
    "# creating list from another list\n",
    "l3=[]\n",
    "\n",
    "for i in range(1, 11):\n",
    "    l3.append(i**2)\n",
    "    \n",
    "    \n",
    "print(l3)\n",
    "\n",
    "import math\n",
    "l4 = []\n",
    "for i in range(1, 11):\n",
    "    l4.append(int(math.pow(i, 3)))\n",
    "    \n",
    "\n",
    "print(l4)"
   ]
  },
  {
   "cell_type": "markdown",
   "id": "5bed1ca4",
   "metadata": {},
   "source": [
    "##  List Comprehensions"
   ]
  },
  {
   "cell_type": "code",
   "execution_count": 18,
   "id": "7c10dbed",
   "metadata": {},
   "outputs": [
    {
     "name": "stdout",
     "output_type": "stream",
     "text": [
      "[1, 4, 9, 16, 25, 36, 49, 64, 81, 100]\n"
     ]
    }
   ],
   "source": [
    "# Concise way of creating list\n",
    "# l1 = [expression for i in iterable if condition]\n",
    "\n",
    "l1 = [i**2 for i in range(1, 11)]\n",
    "print(l1)"
   ]
  },
  {
   "cell_type": "code",
   "execution_count": 19,
   "id": "fe63cc25",
   "metadata": {},
   "outputs": [
    {
     "name": "stdout",
     "output_type": "stream",
     "text": [
      "['D', 'O', 'B', 'E']\n"
     ]
    }
   ],
   "source": [
    "marks = [20, 91, 67, 89]\n",
    "\n",
    "grade = [\"O\" if i>=90 else \"E\" if i>=80 else \"A\" if i>=70 else \"B\" if i>=60 else \"C\" if i>=50 else \"D\" for i in marks]\n",
    "\n",
    "print(grade)"
   ]
  },
  {
   "cell_type": "code",
   "execution_count": 20,
   "id": "5c09ce44",
   "metadata": {},
   "outputs": [
    {
     "name": "stdout",
     "output_type": "stream",
     "text": [
      "[1, 2, 3, 4, 5, 6, 1, 2, 3, 8, 2]\n",
      "3\n",
      "1\n"
     ]
    }
   ],
   "source": [
    "# count()\n",
    "\n",
    "l1=[1, 2, 3, 4, 5, 6, 1, 2, 3, 8 ,2]\n",
    "print(l1)\n",
    "\n",
    "\n",
    "print(l1.count(2))\n",
    "\n",
    "print(l1.index(2))"
   ]
  },
  {
   "cell_type": "markdown",
   "id": "9f5d75fc",
   "metadata": {},
   "source": [
    "## Sorting the list"
   ]
  },
  {
   "cell_type": "code",
   "execution_count": 21,
   "id": "edaa394a",
   "metadata": {},
   "outputs": [
    {
     "name": "stdout",
     "output_type": "stream",
     "text": [
      "[2, 1, 0, 5, 3, 4, 6, 9]\n",
      "[0, 1, 2, 3, 4, 5, 6, 9]\n",
      "[9, 6, 5, 4, 3, 2, 1, 0]\n"
     ]
    }
   ],
   "source": [
    "# sort()\n",
    "\n",
    "l1 = [2,1,0,5,3,4,6,9]\n",
    "print(l1)\n",
    "\n",
    "l1.sort()\n",
    "\n",
    "print(l1)\n",
    "\n",
    "\n",
    "#in reverse order\n",
    "l1.sort(reverse = True)\n",
    "\n",
    "print(l1)\n"
   ]
  },
  {
   "cell_type": "code",
   "execution_count": 22,
   "id": "110916e0",
   "metadata": {},
   "outputs": [
    {
     "name": "stdout",
     "output_type": "stream",
     "text": [
      "['BRJ', 'Bara', 'Parsa', 'Biratnagar']\n",
      "['BRJ', 'Bara', 'Biratnagar', 'Parsa']\n",
      "['Parsa', 'Biratnagar', 'Bara', 'BRJ']\n"
     ]
    }
   ],
   "source": [
    "l2=['BRJ', 'Bara', 'Parsa', \"Biratnagar\"]\n",
    "\n",
    "print(l2)\n",
    "l2.sort()\n",
    "print(l2)\n",
    "\n",
    "l2.sort(reverse=True)\n",
    "print(l2)"
   ]
  },
  {
   "cell_type": "code",
   "execution_count": 23,
   "id": "42dcbbf8",
   "metadata": {},
   "outputs": [
    {
     "name": "stdout",
     "output_type": "stream",
     "text": [
      "[9, 6, 5, 4, 3, 2, 1, 0]\n",
      "[9, 6, 5, 4, 3, 2, 1, 0]\n"
     ]
    }
   ],
   "source": [
    "# copy()\n",
    "\n",
    "l3=l1.copy()\n",
    "print(l1)\n",
    "print(l3)"
   ]
  },
  {
   "cell_type": "markdown",
   "id": "d686654e",
   "metadata": {},
   "source": [
    "## Joining Two List"
   ]
  },
  {
   "cell_type": "code",
   "execution_count": 24,
   "id": "c76c059e",
   "metadata": {},
   "outputs": [
    {
     "name": "stdout",
     "output_type": "stream",
     "text": [
      "[9, 6, 5, 4, 3, 2, 1, 0]\n",
      "['Parsa', 'Biratnagar', 'Bara', 'BRJ']\n",
      "[9, 6, 5, 4, 3, 2, 1, 0, 'Parsa', 'Biratnagar', 'Bara', 'BRJ']\n"
     ]
    }
   ],
   "source": [
    "print(l1)\n",
    "print(l2)\n",
    "\n",
    "l3=l1+l2\n",
    "print(l3)"
   ]
  },
  {
   "cell_type": "markdown",
   "id": "84f4a80a",
   "metadata": {},
   "source": [
    "# TUPLE"
   ]
  },
  {
   "cell_type": "code",
   "execution_count": 25,
   "id": "b1850a0a",
   "metadata": {},
   "outputs": [
    {
     "name": "stdout",
     "output_type": "stream",
     "text": [
      "{3, 4, 6, 'Suraj', 9, 9.28}\n"
     ]
    }
   ],
   "source": [
    "'''\n",
    "Store different data types\n",
    "Tuples are immutable\n",
    "Duplicates are allowed\n",
    "'''\n",
    "\n",
    "t1={3, 4, 6, 9, 'Suraj', 9.28}\n",
    "\n",
    "print(t1)"
   ]
  },
  {
   "cell_type": "code",
   "execution_count": 26,
   "id": "441efc7b",
   "metadata": {},
   "outputs": [
    {
     "name": "stdout",
     "output_type": "stream",
     "text": [
      "9.28\n"
     ]
    },
    {
     "data": {
      "text/plain": [
       "tuple"
      ]
     },
     "execution_count": 26,
     "metadata": {},
     "output_type": "execute_result"
    }
   ],
   "source": [
    "t2=(9.28) # same as t2=9.28\n",
    "print(t2)\n",
    "type(t2)\n",
    "\n",
    "#Single element\n",
    "t3=(9.28,)\n",
    "type(t3)"
   ]
  },
  {
   "cell_type": "code",
   "execution_count": 27,
   "id": "2da9b725",
   "metadata": {},
   "outputs": [
    {
     "name": "stdout",
     "output_type": "stream",
     "text": [
      "[9, 6, 5, 4, 3, 2, 1, 0]\n",
      "(3, 4, 9, 0, 3, 6, 9, [9, 6, 5, 4, 3, 2, 1, 0], True)\n"
     ]
    }
   ],
   "source": [
    "#Using tuple() constructor\n",
    "print(l1)\n",
    "t1 = tuple((3, 4, 9, 0, 3, 6, 9, l1, True))\n",
    "print(t1)"
   ]
  },
  {
   "cell_type": "markdown",
   "id": "6ecd6774",
   "metadata": {},
   "source": [
    "### Note: Slicing and Accessing the data elements in Tuple is same as in List"
   ]
  },
  {
   "cell_type": "markdown",
   "id": "730afe05",
   "metadata": {},
   "source": [
    "## Searching element in Tuple"
   ]
  },
  {
   "cell_type": "code",
   "execution_count": 28,
   "id": "e06f9fbb",
   "metadata": {},
   "outputs": [
    {
     "name": "stdout",
     "output_type": "stream",
     "text": [
      "(3, 4, 9, 0, 3, 6, 9, [9, 6, 5, 4, 3, 2, 1, 0], True)\n",
      "index =  0\n",
      "count = 2\n"
     ]
    }
   ],
   "source": [
    "# index()\n",
    "print(t1)\n",
    "\n",
    "print(\"index = \",t1.index(3))\n",
    "\n",
    "print(\"count =\", t1.count(3))"
   ]
  },
  {
   "cell_type": "markdown",
   "id": "fd48bcb7",
   "metadata": {},
   "source": [
    "## Adding element to a Tuple"
   ]
  },
  {
   "cell_type": "code",
   "execution_count": 29,
   "id": "edc01043",
   "metadata": {},
   "outputs": [
    {
     "name": "stdout",
     "output_type": "stream",
     "text": [
      "(1, 2, 3, 4)\n",
      "[1, 2, 3, 4]\n",
      "[1, 2, 3, 4, 'Appended']\n",
      "(1, 2, 3, 4, 'Appended')\n"
     ]
    },
    {
     "data": {
      "text/plain": [
       "tuple"
      ]
     },
     "execution_count": 29,
     "metadata": {},
     "output_type": "execute_result"
    }
   ],
   "source": [
    "# convert the tuple to a list and append and then make a tuple again\n",
    "\n",
    "t1=(1, 2, 3, 4)\n",
    "\n",
    "print(t1)\n",
    "\n",
    "l1 = list(t1)\n",
    "print(l1)\n",
    "type(l1)\n",
    "l1.append(\"Appended\")\n",
    "print(l1)\n",
    "\n",
    "t1 = tuple(l1)\n",
    "\n",
    "print(t1)\n",
    "type(t1)"
   ]
  },
  {
   "cell_type": "markdown",
   "id": "19c16bbc",
   "metadata": {},
   "source": [
    "## Concatenation of two Tuples"
   ]
  },
  {
   "cell_type": "code",
   "execution_count": 30,
   "id": "a048e312",
   "metadata": {},
   "outputs": [
    {
     "name": "stdout",
     "output_type": "stream",
     "text": [
      "(1, 2, 3, 4, 'Appended')\n",
      "(0, 1, -1)\n",
      "\n",
      "(1, 2, 3, 4, 'Appended', 0, 1, -1)\n"
     ]
    }
   ],
   "source": [
    "t2 = (0, 1, -1)\n",
    "print(t1)\n",
    "print(t2)\n",
    "\n",
    "print()\n",
    "t1=t1+t2\n",
    "\n",
    "print(t1)"
   ]
  },
  {
   "cell_type": "code",
   "execution_count": 31,
   "id": "72356ffd",
   "metadata": {},
   "outputs": [
    {
     "data": {
      "text/plain": [
       "5"
      ]
     },
     "execution_count": 31,
     "metadata": {},
     "output_type": "execute_result"
    }
   ],
   "source": [
    "# length of tuple\n",
    "t2=(1, 2, 3,4 , 5)\n",
    "t2.__len__()\n"
   ]
  },
  {
   "cell_type": "code",
   "execution_count": 32,
   "id": "01369240",
   "metadata": {},
   "outputs": [
    {
     "name": "stdout",
     "output_type": "stream",
     "text": [
      "8\n",
      "1\n"
     ]
    }
   ],
   "source": [
    "print(max((1, 2, 3, 4, 6, 7, 8)))\n",
    "print(min(1, 2, 3, 4, 6, 7, 8))"
   ]
  },
  {
   "cell_type": "markdown",
   "id": "a0aa2df6",
   "metadata": {},
   "source": [
    "### NOTE: Traversing in Tuple is same as List"
   ]
  },
  {
   "cell_type": "markdown",
   "id": "c29c393c",
   "metadata": {},
   "source": [
    "### "
   ]
  }
 ],
 "metadata": {
  "kernelspec": {
   "display_name": "Python 3 (ipykernel)",
   "language": "python",
   "name": "python3"
  },
  "language_info": {
   "codemirror_mode": {
    "name": "ipython",
    "version": 3
   },
   "file_extension": ".py",
   "mimetype": "text/x-python",
   "name": "python",
   "nbconvert_exporter": "python",
   "pygments_lexer": "ipython3",
   "version": "3.11.5"
  }
 },
 "nbformat": 4,
 "nbformat_minor": 5
}
