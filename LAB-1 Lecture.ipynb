{
 "cells": [
  {
   "cell_type": "markdown",
   "id": "7c0e5cda",
   "metadata": {},
   "source": [
    "# Introduction"
   ]
  },
  {
   "cell_type": "markdown",
   "id": "7029a428",
   "metadata": {},
   "source": [
    "## 1. Commenting Lines of Codes"
   ]
  },
  {
   "cell_type": "markdown",
   "id": "ab88ef1e",
   "metadata": {},
   "source": [
    "### 1.1 Single Line Comment"
   ]
  },
  {
   "cell_type": "code",
   "execution_count": 1,
   "id": "fe0beee6",
   "metadata": {},
   "outputs": [
    {
     "name": "stdout",
     "output_type": "stream",
     "text": [
      "6\n"
     ]
    }
   ],
   "source": [
    "# Single Line comment - #\n",
    "x=6\n",
    "print(x)"
   ]
  },
  {
   "cell_type": "markdown",
   "id": "13bd1a99",
   "metadata": {},
   "source": [
    "### 1.2 Multi Line Comment"
   ]
  },
  {
   "cell_type": "code",
   "execution_count": 2,
   "id": "60de5a9e",
   "metadata": {},
   "outputs": [
    {
     "name": "stdout",
     "output_type": "stream",
     "text": [
      "5\n"
     ]
    }
   ],
   "source": [
    "'''This\n",
    "is\n",
    "a \n",
    "Multi Line comment'''\n",
    "y=5\n",
    "print(y)"
   ]
  },
  {
   "cell_type": "markdown",
   "id": "5ccd871d",
   "metadata": {},
   "source": [
    "## 2. Variables"
   ]
  },
  {
   "cell_type": "code",
   "execution_count": 3,
   "id": "35e85982",
   "metadata": {},
   "outputs": [
    {
     "name": "stdout",
     "output_type": "stream",
     "text": [
      "80\n"
     ]
    }
   ],
   "source": [
    "# Integer Variable\n",
    "mark=80\n",
    "print(mark)\n",
    "\n",
    "# Float Variable\n",
    "height=1.73\n",
    "\n",
    "# Complex Variable\n",
    "c=2+3j"
   ]
  },
  {
   "cell_type": "code",
   "execution_count": 4,
   "id": "1ae1ea05",
   "metadata": {},
   "outputs": [
    {
     "data": {
      "text/plain": [
       "int"
      ]
     },
     "execution_count": 4,
     "metadata": {},
     "output_type": "execute_result"
    }
   ],
   "source": [
    "type(mark)"
   ]
  },
  {
   "cell_type": "code",
   "execution_count": 5,
   "id": "e276be8c",
   "metadata": {},
   "outputs": [
    {
     "data": {
      "text/plain": [
       "float"
      ]
     },
     "execution_count": 5,
     "metadata": {},
     "output_type": "execute_result"
    }
   ],
   "source": [
    "type(height)"
   ]
  },
  {
   "cell_type": "code",
   "execution_count": 6,
   "id": "e84289af",
   "metadata": {},
   "outputs": [
    {
     "data": {
      "text/plain": [
       "complex"
      ]
     },
     "execution_count": 6,
     "metadata": {},
     "output_type": "execute_result"
    }
   ],
   "source": [
    "type(c)"
   ]
  },
  {
   "cell_type": "code",
   "execution_count": 7,
   "id": "f4c818e4",
   "metadata": {},
   "outputs": [],
   "source": [
    "# String Variable\n",
    "name='Suraj'"
   ]
  },
  {
   "cell_type": "code",
   "execution_count": 8,
   "id": "503c9cf4",
   "metadata": {},
   "outputs": [
    {
     "data": {
      "text/plain": [
       "str"
      ]
     },
     "execution_count": 8,
     "metadata": {},
     "output_type": "execute_result"
    }
   ],
   "source": [
    "type(name)\n"
   ]
  },
  {
   "cell_type": "code",
   "execution_count": 9,
   "id": "583b74b0",
   "metadata": {},
   "outputs": [],
   "source": [
    "fullName=\"Suraj Kumar Sah\""
   ]
  },
  {
   "cell_type": "code",
   "execution_count": 10,
   "id": "d0705ed4",
   "metadata": {},
   "outputs": [
    {
     "data": {
      "text/plain": [
       "str"
      ]
     },
     "execution_count": 10,
     "metadata": {},
     "output_type": "execute_result"
    }
   ],
   "source": [
    "type(fullName)"
   ]
  },
  {
   "cell_type": "code",
   "execution_count": 11,
   "id": "23c8e975",
   "metadata": {},
   "outputs": [
    {
     "name": "stdout",
     "output_type": "stream",
     "text": [
      "u\n",
      "Su\n",
      "raj\n",
      "j\n",
      "ura\n",
      "uraj\n"
     ]
    }
   ],
   "source": [
    "print(name[1])\n",
    "print(name[:2])\n",
    "print(name[2:])\n",
    "print(name[-1])\n",
    "print(name[1:4])\n",
    "print(name[1:])"
   ]
  },
  {
   "cell_type": "code",
   "execution_count": 12,
   "id": "83e8be53",
   "metadata": {},
   "outputs": [],
   "source": [
    "# Boolean Type Variable\n",
    "flag=True"
   ]
  },
  {
   "cell_type": "code",
   "execution_count": 13,
   "id": "2996121d",
   "metadata": {},
   "outputs": [
    {
     "data": {
      "text/plain": [
       "bool"
      ]
     },
     "execution_count": 13,
     "metadata": {},
     "output_type": "execute_result"
    }
   ],
   "source": [
    "type(flag)"
   ]
  },
  {
   "cell_type": "code",
   "execution_count": 14,
   "id": "9ac1580d",
   "metadata": {},
   "outputs": [
    {
     "data": {
      "text/plain": [
       "NoneType"
      ]
     },
     "execution_count": 14,
     "metadata": {},
     "output_type": "execute_result"
    }
   ],
   "source": [
    "# None Type variable - absence of value\n",
    "notSure= None\n",
    "type(notSure)"
   ]
  },
  {
   "cell_type": "markdown",
   "id": "59b9f3d8",
   "metadata": {},
   "source": [
    "#### Note :Variable Names are Case Sensitive"
   ]
  },
  {
   "cell_type": "code",
   "execution_count": 15,
   "id": "e83c8ef4",
   "metadata": {},
   "outputs": [
    {
     "name": "stdout",
     "output_type": "stream",
     "text": [
      "x = 2 y = 3\n",
      "a = 3 b = 2\n",
      "c = d = Suraj or Suraj\n"
     ]
    }
   ],
   "source": [
    "x=2\n",
    "y=3\n",
    "a,b=3,2\n",
    "c=d=\"Suraj\"\n",
    "print(\"x =\",x, \"y =\",y)\n",
    "print(\"a =\",a, \"b =\",b)\n",
    "print(\"c = d =\", c, \"or\",d)\n"
   ]
  },
  {
   "cell_type": "code",
   "execution_count": 16,
   "id": "936c81cb",
   "metadata": {},
   "outputs": [
    {
     "name": "stdout",
     "output_type": "stream",
     "text": [
      "[2, 1, 0, 5, 3, 4, 6, 9]\n"
     ]
    },
    {
     "data": {
      "text/plain": [
       "[2, 1, 0, 5, 3, 4, 6, 9]"
      ]
     },
     "execution_count": 16,
     "metadata": {},
     "output_type": "execute_result"
    }
   ],
   "source": [
    "arr=[2,1,0,5,3,4,6,9]\n",
    "print(arr)\n",
    "arr"
   ]
  },
  {
   "cell_type": "code",
   "execution_count": 17,
   "id": "97246ecd",
   "metadata": {},
   "outputs": [
    {
     "name": "stdout",
     "output_type": "stream",
     "text": [
      "2, 3, 3, 2, Suraj !! Kumar Sah\n"
     ]
    }
   ],
   "source": [
    "print(x, y, a, b, c, sep=\", \", end=' !! ', flush=False)\n",
    "print(\"Kumar Sah\")"
   ]
  },
  {
   "cell_type": "markdown",
   "id": "136c7fbe",
   "metadata": {},
   "source": [
    "## Reading data from Keyboard"
   ]
  },
  {
   "cell_type": "code",
   "execution_count": 18,
   "id": "55e622f7",
   "metadata": {},
   "outputs": [
    {
     "name": "stdout",
     "output_type": "stream",
     "text": [
      "Enter your name : Suraj\n",
      "Suraj\n",
      "Enter a number : 21\n",
      "21\n"
     ]
    },
    {
     "data": {
      "text/plain": [
       "str"
      ]
     },
     "execution_count": 18,
     "metadata": {},
     "output_type": "execute_result"
    }
   ],
   "source": [
    "# input() -> Read data as a string\n",
    "name = input(\"Enter your name : \")\n",
    "print(name)\n",
    "\n",
    "number = input(\"Enter a number : \")\n",
    "print(number)\n",
    "\n",
    "type(name)\n",
    "type(number)\n"
   ]
  },
  {
   "cell_type": "code",
   "execution_count": 20,
   "id": "5340de8b",
   "metadata": {},
   "outputs": [
    {
     "name": "stdout",
     "output_type": "stream",
     "text": [
      "Enter a Number : 21\n",
      "21\n",
      "Enter a Number : 1.2\n"
     ]
    },
    {
     "data": {
      "text/plain": [
       "float"
      ]
     },
     "execution_count": 20,
     "metadata": {},
     "output_type": "execute_result"
    }
   ],
   "source": [
    "# Typecasting\n",
    "#Int Type\n",
    "int_num=int(input(\"Enter a Number : \"))\n",
    "print(int_num)\n",
    "\n",
    "#Float type\n",
    "float_num=float(input(\"Enter a Number : \"))\n",
    "\n",
    "type(int_num)\n",
    "type(float_num)"
   ]
  },
  {
   "cell_type": "markdown",
   "id": "b3814668",
   "metadata": {},
   "source": [
    "## 3. Built-in Functions"
   ]
  },
  {
   "cell_type": "code",
   "execution_count": 21,
   "id": "0620637d",
   "metadata": {},
   "outputs": [
    {
     "data": {
      "text/plain": [
       "['ArithmeticError',\n",
       " 'AssertionError',\n",
       " 'AttributeError',\n",
       " 'BaseException',\n",
       " 'BaseExceptionGroup',\n",
       " 'BlockingIOError',\n",
       " 'BrokenPipeError',\n",
       " 'BufferError',\n",
       " 'BytesWarning',\n",
       " 'ChildProcessError',\n",
       " 'ConnectionAbortedError',\n",
       " 'ConnectionError',\n",
       " 'ConnectionRefusedError',\n",
       " 'ConnectionResetError',\n",
       " 'DeprecationWarning',\n",
       " 'EOFError',\n",
       " 'Ellipsis',\n",
       " 'EncodingWarning',\n",
       " 'EnvironmentError',\n",
       " 'Exception',\n",
       " 'ExceptionGroup',\n",
       " 'False',\n",
       " 'FileExistsError',\n",
       " 'FileNotFoundError',\n",
       " 'FloatingPointError',\n",
       " 'FutureWarning',\n",
       " 'GeneratorExit',\n",
       " 'IOError',\n",
       " 'ImportError',\n",
       " 'ImportWarning',\n",
       " 'IndentationError',\n",
       " 'IndexError',\n",
       " 'InterruptedError',\n",
       " 'IsADirectoryError',\n",
       " 'KeyError',\n",
       " 'KeyboardInterrupt',\n",
       " 'LookupError',\n",
       " 'MemoryError',\n",
       " 'ModuleNotFoundError',\n",
       " 'NameError',\n",
       " 'None',\n",
       " 'NotADirectoryError',\n",
       " 'NotImplemented',\n",
       " 'NotImplementedError',\n",
       " 'OSError',\n",
       " 'OverflowError',\n",
       " 'PendingDeprecationWarning',\n",
       " 'PermissionError',\n",
       " 'ProcessLookupError',\n",
       " 'RecursionError',\n",
       " 'ReferenceError',\n",
       " 'ResourceWarning',\n",
       " 'RuntimeError',\n",
       " 'RuntimeWarning',\n",
       " 'StopAsyncIteration',\n",
       " 'StopIteration',\n",
       " 'SyntaxError',\n",
       " 'SyntaxWarning',\n",
       " 'SystemError',\n",
       " 'SystemExit',\n",
       " 'TabError',\n",
       " 'TimeoutError',\n",
       " 'True',\n",
       " 'TypeError',\n",
       " 'UnboundLocalError',\n",
       " 'UnicodeDecodeError',\n",
       " 'UnicodeEncodeError',\n",
       " 'UnicodeError',\n",
       " 'UnicodeTranslateError',\n",
       " 'UnicodeWarning',\n",
       " 'UserWarning',\n",
       " 'ValueError',\n",
       " 'Warning',\n",
       " 'WindowsError',\n",
       " 'ZeroDivisionError',\n",
       " '__IPYTHON__',\n",
       " '__build_class__',\n",
       " '__debug__',\n",
       " '__doc__',\n",
       " '__import__',\n",
       " '__loader__',\n",
       " '__name__',\n",
       " '__package__',\n",
       " '__spec__',\n",
       " 'abs',\n",
       " 'aiter',\n",
       " 'all',\n",
       " 'anext',\n",
       " 'any',\n",
       " 'ascii',\n",
       " 'bin',\n",
       " 'bool',\n",
       " 'breakpoint',\n",
       " 'bytearray',\n",
       " 'bytes',\n",
       " 'callable',\n",
       " 'chr',\n",
       " 'classmethod',\n",
       " 'compile',\n",
       " 'complex',\n",
       " 'copyright',\n",
       " 'credits',\n",
       " 'delattr',\n",
       " 'dict',\n",
       " 'dir',\n",
       " 'display',\n",
       " 'divmod',\n",
       " 'enumerate',\n",
       " 'eval',\n",
       " 'exec',\n",
       " 'execfile',\n",
       " 'filter',\n",
       " 'float',\n",
       " 'format',\n",
       " 'frozenset',\n",
       " 'get_ipython',\n",
       " 'getattr',\n",
       " 'globals',\n",
       " 'hasattr',\n",
       " 'hash',\n",
       " 'help',\n",
       " 'hex',\n",
       " 'id',\n",
       " 'input',\n",
       " 'int',\n",
       " 'isinstance',\n",
       " 'issubclass',\n",
       " 'iter',\n",
       " 'len',\n",
       " 'license',\n",
       " 'list',\n",
       " 'locals',\n",
       " 'map',\n",
       " 'max',\n",
       " 'memoryview',\n",
       " 'min',\n",
       " 'next',\n",
       " 'object',\n",
       " 'oct',\n",
       " 'open',\n",
       " 'ord',\n",
       " 'pow',\n",
       " 'print',\n",
       " 'property',\n",
       " 'range',\n",
       " 'repr',\n",
       " 'reversed',\n",
       " 'round',\n",
       " 'runfile',\n",
       " 'set',\n",
       " 'setattr',\n",
       " 'slice',\n",
       " 'sorted',\n",
       " 'staticmethod',\n",
       " 'str',\n",
       " 'sum',\n",
       " 'super',\n",
       " 'tuple',\n",
       " 'type',\n",
       " 'vars',\n",
       " 'zip']"
      ]
     },
     "execution_count": 21,
     "metadata": {},
     "output_type": "execute_result"
    }
   ],
   "source": [
    "dir(__builtins__)"
   ]
  },
  {
   "cell_type": "markdown",
   "id": "f135e3d6",
   "metadata": {},
   "source": [
    "## 4. Operators"
   ]
  },
  {
   "cell_type": "code",
   "execution_count": 22,
   "id": "4660194d",
   "metadata": {},
   "outputs": [
    {
     "name": "stdout",
     "output_type": "stream",
     "text": [
      "11\n",
      "1\n",
      "30\n",
      "1.2\n",
      "1\n",
      "7776\n",
      "False\n",
      "True\n",
      "True\n",
      "False\n",
      "6\n",
      "5\n",
      "False\n"
     ]
    }
   ],
   "source": [
    "a=6\n",
    "b=5\n",
    "\n",
    "print(a+b)\n",
    "print(a-b)\n",
    "print(a*b)\n",
    "print(a/b)\n",
    "print(a//b)\n",
    "print(a**b)\n",
    "\n",
    "print(a==b)\n",
    "print(a!=b)\n",
    "print(a>b)\n",
    "print(a<b)\n",
    "\n",
    "print(a or b)\n",
    "print(a and b)\n",
    "print(not b)"
   ]
  },
  {
   "cell_type": "markdown",
   "id": "1ab6d82c",
   "metadata": {},
   "source": [
    "### 4.1 Identity Operators"
   ]
  },
  {
   "cell_type": "code",
   "execution_count": 23,
   "id": "828f41da",
   "metadata": {},
   "outputs": [
    {
     "name": "stdout",
     "output_type": "stream",
     "text": [
      "False\n",
      "True\n"
     ]
    }
   ],
   "source": [
    "print(a is b)\n",
    "\n",
    "x=5\n",
    "y=5\n",
    "\n",
    "print(x is y)"
   ]
  },
  {
   "cell_type": "code",
   "execution_count": 24,
   "id": "558158a0",
   "metadata": {},
   "outputs": [
    {
     "name": "stdout",
     "output_type": "stream",
     "text": [
      "True\n"
     ]
    }
   ],
   "source": [
    "#x, y, z =5, 5, x\n",
    "x=5\n",
    "y=5\n",
    "z=x\n",
    "print(x is z)"
   ]
  },
  {
   "cell_type": "markdown",
   "id": "e23bc1d5",
   "metadata": {},
   "source": [
    "### 4.2 Membership Operators"
   ]
  },
  {
   "cell_type": "code",
   "execution_count": 25,
   "id": "ceffee83",
   "metadata": {},
   "outputs": [
    {
     "name": "stdout",
     "output_type": "stream",
     "text": [
      "True\n",
      "False\n",
      "True\n"
     ]
    }
   ],
   "source": [
    "myList=[2, 1, 0, 5 ,3, 4, 6, 9]\n",
    "\n",
    "print(2 in myList)\n",
    "print(8 in myList)\n",
    "print(8 not in myList)"
   ]
  },
  {
   "cell_type": "markdown",
   "id": "f154b737",
   "metadata": {},
   "source": [
    "### 4.4 Bitwise Operators"
   ]
  },
  {
   "cell_type": "code",
   "execution_count": 26,
   "id": "fbd00999",
   "metadata": {},
   "outputs": [
    {
     "name": "stdout",
     "output_type": "stream",
     "text": [
      "5\n",
      "5\n",
      "0\n",
      "-6\n",
      "2\n",
      "10\n"
     ]
    }
   ],
   "source": [
    "a=5    #101\n",
    "b=5    #101\n",
    "print(a & b)\n",
    "print(a | b)\n",
    "print(a ^ b)\n",
    "print(~a)\n",
    "print(a >> 1)  #Right Shift\n",
    "print(a << 1)  #Left Shift"
   ]
  },
  {
   "cell_type": "markdown",
   "id": "a5406759",
   "metadata": {},
   "source": [
    "### 5. Getting information about functions or any modules"
   ]
  },
  {
   "cell_type": "code",
   "execution_count": 27,
   "id": "df9c661f",
   "metadata": {},
   "outputs": [
    {
     "name": "stdout",
     "output_type": "stream",
     "text": [
      "Help on built-in function print in module builtins:\n",
      "\n",
      "print(*args, sep=' ', end='\\n', file=None, flush=False)\n",
      "    Prints the values to a stream, or to sys.stdout by default.\n",
      "    \n",
      "    sep\n",
      "      string inserted between values, default a space.\n",
      "    end\n",
      "      string appended after the last value, default a newline.\n",
      "    file\n",
      "      a file-like object (stream); defaults to the current sys.stdout.\n",
      "    flush\n",
      "      whether to forcibly flush the stream.\n",
      "\n"
     ]
    }
   ],
   "source": [
    "help(print)"
   ]
  },
  {
   "cell_type": "markdown",
   "id": "40c7fb09",
   "metadata": {},
   "source": [
    "## Conditional Statements"
   ]
  },
  {
   "cell_type": "code",
   "execution_count": 29,
   "id": "4b1f89f0",
   "metadata": {},
   "outputs": [
    {
     "name": "stdout",
     "output_type": "stream",
     "text": [
      "Enter your age : 23\n",
      "You are eligible to vote\n"
     ]
    }
   ],
   "source": [
    "a=int(input(\"Enter your age : \"))\n",
    "if a<18:\n",
    "    print(\"You are not eligible to Vote\")\n",
    "elif a>100:\n",
    "    print(\"Invalid age\")\n",
    "else:\n",
    "\tprint(\"You are eligible to vote\")"
   ]
  },
  {
   "cell_type": "markdown",
   "id": "9c88b752",
   "metadata": {},
   "source": [
    "## Loop"
   ]
  },
  {
   "cell_type": "markdown",
   "id": "c2087976",
   "metadata": {},
   "source": [
    "#### While Loop"
   ]
  },
  {
   "cell_type": "code",
   "execution_count": 31,
   "id": "b7f2c1e1",
   "metadata": {},
   "outputs": [
    {
     "name": "stdout",
     "output_type": "stream",
     "text": [
      "1\n",
      "2\n",
      "3\n",
      "4\n",
      "5\n",
      "6\n",
      "7\n",
      "8\n",
      "9\n"
     ]
    }
   ],
   "source": [
    "i=1\n",
    "while i<10:\n",
    "    print(i)\n",
    "    i+=1"
   ]
  },
  {
   "cell_type": "markdown",
   "id": "7de4d95b",
   "metadata": {},
   "source": [
    "\n",
    "#### For Loop"
   ]
  },
  {
   "cell_type": "code",
   "execution_count": 55,
   "id": "d4a351fa",
   "metadata": {},
   "outputs": [
    {
     "name": "stdout",
     "output_type": "stream",
     "text": [
      "Reverse Order\n",
      "1 2 3 4 5 6 7 8 9 \n",
      "\n",
      "Reverse Order\n",
      "10 9 8 7 6 5 4 3 2 \n",
      "\n",
      "Iterate over a String\n",
      "Suraj Sah\n",
      "\n",
      "Iterate over a List\n",
      "2 1 0 5 3 4 6 9 "
     ]
    }
   ],
   "source": [
    "print(\"Reverse Order\")\n",
    "for i in range(1, 10):\n",
    "    print(i, end=\" \")\n",
    "    \n",
    "print(\"\\n\\nReverse Order\")\n",
    "for i in range(10, 1, -1):\n",
    "    print(i, end=\" \")\n",
    "    \n",
    "print(\"\\n\\nIterate over a String\")  \n",
    "name=\"Suraj Sah\"\n",
    "for ch in name:\n",
    "    print(ch, end=\"\")\n",
    "    \n",
    "print(\"\\n\\nIterate over a List\")\n",
    "my_list=[2, 1, 0,5, 3, 4, 6, 9 ]\n",
    "\n",
    "for i in my_list:\n",
    "    print(i, end=\" \")"
   ]
  },
  {
   "cell_type": "markdown",
   "id": "5763a203",
   "metadata": {},
   "source": [
    "## Assignment"
   ]
  },
  {
   "cell_type": "code",
   "execution_count": 2,
   "id": "c04e90c4",
   "metadata": {},
   "outputs": [
    {
     "name": "stdout",
     "output_type": "stream",
     "text": [
      "* \n",
      "* * \n",
      "* * * \n",
      "* * * * \n"
     ]
    }
   ],
   "source": [
    "'''\n",
    "*\n",
    "* *\n",
    "* * *\n",
    "* * * *\n",
    "'''\n",
    "\n",
    "for i in range(1, 5):\n",
    "    for j in range(i):\n",
    "        print(\"*\", end=\" \")\n",
    "    print()"
   ]
  },
  {
   "cell_type": "code",
   "execution_count": 10,
   "id": "a5bdf2c8",
   "metadata": {},
   "outputs": [
    {
     "name": "stdout",
     "output_type": "stream",
     "text": [
      "Apple\n",
      "Orange\n",
      "Grapes\n"
     ]
    }
   ],
   "source": [
    "fruits=[\"Apple\", \"Banana\", \"Orange\", \"Grapes\"]\n",
    "\n",
    "for item in fruits:\n",
    "    if item==\"Banana\":\n",
    "        continue\n",
    "    print(item)"
   ]
  }
 ],
 "metadata": {
  "kernelspec": {
   "display_name": "Python 3 (ipykernel)",
   "language": "python",
   "name": "python3"
  },
  "language_info": {
   "codemirror_mode": {
    "name": "ipython",
    "version": 3
   },
   "file_extension": ".py",
   "mimetype": "text/x-python",
   "name": "python",
   "nbconvert_exporter": "python",
   "pygments_lexer": "ipython3",
   "version": "3.11.5"
  }
 },
 "nbformat": 4,
 "nbformat_minor": 5
}
