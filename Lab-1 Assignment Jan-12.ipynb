{
 "cells": [
  {
   "cell_type": "markdown",
   "id": "35e7dfd1",
   "metadata": {},
   "source": [
    "# Lab-1 Assignment"
   ]
  },
  {
   "cell_type": "markdown",
   "id": "b6dbbdca",
   "metadata": {},
   "source": [
    "### 1. Write a Python program(WAPP) to input any two integers, and provide a menu to the user to select any of the options as add, subtract, multiply, divide and display the result accordingly."
   ]
  },
  {
   "cell_type": "code",
   "execution_count": 1,
   "id": "d4b1057f",
   "metadata": {},
   "outputs": [
    {
     "name": "stdout",
     "output_type": "stream",
     "text": [
      "Enter first number : 5\n",
      "Enter second number : 2\n",
      "1. Add \n",
      "2. Subtract \n",
      "3. Divide \n",
      " 4.Multiply\n",
      "Enter choice : 2\n",
      "3\n"
     ]
    }
   ],
   "source": [
    "a=int(input(\"Enter first number : \"))\n",
    "b=int(input(\"Enter second number : \"))\n",
    "\n",
    "print(\"1. Add \\n2. Subtract \\n3. Divide \\n 4.Multiply\")\n",
    "ch=int(input(\"Enter choice : \"))\n",
    "\n",
    "if(ch==1):\n",
    "    print(a+b)\n",
    "elif(ch==2):\n",
    "    print(a-b)\n",
    "elif(ch==3):\n",
    "    print(a/b)\n",
    "elif(ch==4):\n",
    "    print(a*b)"
   ]
  },
  {
   "cell_type": "markdown",
   "id": "46794cc6",
   "metadata": {},
   "source": [
    "### 2. WAPP to check if a year is leap year or not."
   ]
  },
  {
   "cell_type": "code",
   "execution_count": 3,
   "id": "1738a067",
   "metadata": {},
   "outputs": [
    {
     "name": "stdout",
     "output_type": "stream",
     "text": [
      "Enter a year : 2017\n",
      "2017  is not a leap year.\n"
     ]
    }
   ],
   "source": [
    "year=int(input(\"Enter a year : \"))\n",
    "\n",
    "if(year%4==0):\n",
    "    print(year,\" is a leap year.\")\n",
    "else:\n",
    "    print(year, \" is not a leap year.\")"
   ]
  },
  {
   "cell_type": "markdown",
   "id": "3c50cf3d",
   "metadata": {},
   "source": [
    "### 3. WAPP to convert temperature from centigrade to Fahrenheit scale."
   ]
  },
  {
   "cell_type": "code",
   "execution_count": 5,
   "id": "6727dfb7",
   "metadata": {},
   "outputs": [
    {
     "name": "stdout",
     "output_type": "stream",
     "text": [
      "Enter temperature in Celsius : 50\n",
      "Fahrenheit =  122.0\n"
     ]
    }
   ],
   "source": [
    "cel=float(input(\"Enter temperature in Celsius : \"))\n",
    "\n",
    "fah = cel*(9/5)+32\n",
    "print(\"Fahrenheit = \", fah)"
   ]
  },
  {
   "cell_type": "markdown",
   "id": "7f685c93",
   "metadata": {},
   "source": [
    "### 4. WAPP to add two times in hour, minute & second format entered through the keyboard."
   ]
  },
  {
   "cell_type": "code",
   "execution_count": 10,
   "id": "cf6a5b44",
   "metadata": {},
   "outputs": [
    {
     "name": "stdout",
     "output_type": "stream",
     "text": [
      "First, time\n",
      "Enter Hour: 12\n",
      "Enter minutes: 133\n",
      "Enter sec: 123\n",
      "Second, time\n",
      "Enter Hour: 3\n",
      "Enter minutes: 234\n",
      "Enter sec: 234\n",
      "Added Time:\n",
      "21 hr : 12 min : 57 sec\n"
     ]
    }
   ],
   "source": [
    "print(\"First time :\")\n",
    "\n",
    "h1=int(input(\"Enter Hour: \"))\n",
    "m1=int(input(\"Enter minutes: \"))\n",
    "s1=int(input(\"Enter sec: \"))\n",
    "\n",
    "print(\"Second, time\")\n",
    "h2=int(input(\"Enter Hour: \"))\n",
    "m2=int(input(\"Enter minutes: \"))\n",
    "s2=int(input(\"Enter sec: \"))\n",
    "\n",
    "h3=h1+h2+(m1+m2+(s1+s2)//60)//60\n",
    "m3=(m1+m2+(s1+s2)//60)%60\n",
    "s3=(s1+s2)%60\n",
    "\n",
    "print(\"Added Time :\")\n",
    "print(h3,\"hr :\", m3, \"min :\", s3,\"sec\")"
   ]
  },
  {
   "cell_type": "markdown",
   "id": "3a1bb847",
   "metadata": {},
   "source": [
    "### 5. WAPP to check given number is Armstrong or not."
   ]
  },
  {
   "cell_type": "code",
   "execution_count": 11,
   "id": "26d7f556",
   "metadata": {},
   "outputs": [
    {
     "name": "stdout",
     "output_type": "stream",
     "text": [
      "Enter a 3 digit Number : 409\n",
      "409 is not Armstrong Number\n"
     ]
    }
   ],
   "source": [
    "num=int(input(\"Enter a 3 digit Number : \"))\n",
    "\n",
    "orgNum=num\n",
    "\n",
    "sum=0\n",
    "while num>0:\n",
    "    digit=num%10\n",
    "    sum+=digit ** 3\n",
    "    num//=10\n",
    "    \n",
    "if orgNum==sum:\n",
    "    print(orgNum, \"is Armstrong Number\")\n",
    "else:\n",
    "    print(orgNum, \"is not Armstrong Number\")"
   ]
  },
  {
   "cell_type": "markdown",
   "id": "f4a7b08d",
   "metadata": {},
   "source": [
    "### 6. WAPP to find out the factors of a number."
   ]
  },
  {
   "cell_type": "code",
   "execution_count": 14,
   "id": "8ec437ba",
   "metadata": {},
   "outputs": [
    {
     "name": "stdout",
     "output_type": "stream",
     "text": [
      "Enter a Number : 20\n",
      "Factors of  20 are: \n",
      "2\n",
      "4\n",
      "5\n",
      "10\n",
      "20\n"
     ]
    }
   ],
   "source": [
    "num=int(input(\"Enter a Number : \"))\n",
    "\n",
    "print(\"Factors of \", num, \"are: \")\n",
    "for i in range(2, num+1):\n",
    "    if num%i==0:\n",
    "        print(i)\n"
   ]
  },
  {
   "cell_type": "markdown",
   "id": "9f5800e2",
   "metadata": {},
   "source": [
    "### 7. WAPP to print all even number between 100 to 200 using loop."
   ]
  },
  {
   "cell_type": "code",
   "execution_count": 7,
   "id": "2a400425",
   "metadata": {},
   "outputs": [
    {
     "name": "stdout",
     "output_type": "stream",
     "text": [
      "100 102 104 106 108 110 112 114 116 118 120 122 124 126 128 130 132 134 136 138 140 142 144 146 148 150 152 154 156 158 160 162 164 166 168 170 172 174 176 178 180 182 184 186 188 190 192 194 196 198 "
     ]
    }
   ],
   "source": [
    "for i in range(100, 200):\n",
    "    if(i%2==0):\n",
    "        print(i, end=\" \")"
   ]
  },
  {
   "cell_type": "markdown",
   "id": "b68e9611",
   "metadata": {},
   "source": [
    "### 8. WAPP to find LCM of 2 numbers using while loop."
   ]
  },
  {
   "cell_type": "code",
   "execution_count": 15,
   "id": "96ae5321",
   "metadata": {},
   "outputs": [
    {
     "name": "stdout",
     "output_type": "stream",
     "text": [
      "Enter first Number : 5\n",
      "Enter second Number : 20\n",
      "LCM of  5  and  20  =  20\n"
     ]
    }
   ],
   "source": [
    "a = int(input(\"Enter first Number : \"))\n",
    "b = int(input(\"Enter second Number : \"))\n",
    "\n",
    "maxNum = max(a, b)\n",
    "\n",
    "lcm=maxNum\n",
    "\n",
    "while True:\n",
    "    if lcm%a==0 and lcm%b==0:\n",
    "        break\n",
    "    lcm+=maxNum\n",
    "    \n",
    "print(\"LCM of \", a, \" and \", b, \" = \", lcm)"
   ]
  },
  {
   "cell_type": "markdown",
   "id": "9df4fcca",
   "metadata": {},
   "source": [
    "### 9. WAPP to findout the distance between two coordinates (x1, y1) & (x2, y2)."
   ]
  },
  {
   "cell_type": "code",
   "execution_count": 17,
   "id": "044a9606",
   "metadata": {},
   "outputs": [
    {
     "name": "stdout",
     "output_type": "stream",
     "text": [
      "Enter x1 : 11\n",
      "Enter y1 : 12\n",
      "Enter x2 : 32\n",
      "Enter y2 : 4\n",
      "Distance :  22.47220505424423\n"
     ]
    }
   ],
   "source": [
    "import math\n",
    "x1, y1=float(input(\"Enter x1 : \")), float(input(\"Enter y1 : \"))\n",
    "x2, y2=float(input(\"Enter x2 : \")), float(input(\"Enter y2 : \"))\n",
    "\n",
    "distance = math.sqrt((x2-x1) ** 2+ (y2-y1) ** 2)\n",
    "\n",
    "print(\"Distance : \", distance)"
   ]
  },
  {
   "cell_type": "markdown",
   "id": "df7d8d47",
   "metadata": {},
   "source": [
    "### 10. WAPP to find the multiplication table of any number using for loop."
   ]
  },
  {
   "cell_type": "code",
   "execution_count": 10,
   "id": "656ebefb",
   "metadata": {},
   "outputs": [
    {
     "name": "stdout",
     "output_type": "stream",
     "text": [
      "Enter a Number : 3\n",
      "3 x 1 = 3\n",
      "3 x 2 = 6\n",
      "3 x 3 = 9\n",
      "3 x 4 = 12\n",
      "3 x 5 = 15\n",
      "3 x 6 = 18\n",
      "3 x 7 = 21\n",
      "3 x 8 = 24\n",
      "3 x 9 = 27\n",
      "3 x 10 = 30\n"
     ]
    }
   ],
   "source": [
    "num=int(input(\"Enter a Number : \"))\n",
    "\n",
    "#To print table\n",
    "for i in range(1, 11):\n",
    "    print(num, \"x\", i, \"=\", num*i)"
   ]
  },
  {
   "cell_type": "markdown",
   "id": "42d47543",
   "metadata": {},
   "source": [
    "### 11. WAPP to find Volume and Surface Area of Cylinder."
   ]
  },
  {
   "cell_type": "code",
   "execution_count": 18,
   "id": "98419131",
   "metadata": {},
   "outputs": [
    {
     "name": "stdout",
     "output_type": "stream",
     "text": [
      "Enter radius : 7\n",
      "Enter height : 15\n",
      "Surface area = 967.6105373056563\n",
      "Volume = 2309.070600388498\n"
     ]
    }
   ],
   "source": [
    "import math\n",
    "radius = float(input(\"Enter radius : \"))\n",
    "height = float(input(\"Enter height : \"))\n",
    "vol = math.pi * radius ** 2 * height\n",
    "area = 2 * math.pi * radius * (radius + height)\n",
    "\n",
    "print(\"Surface area =\", area)\n",
    "print(\"Volume =\", vol)"
   ]
  },
  {
   "cell_type": "markdown",
   "id": "fe4ca75b",
   "metadata": {},
   "source": [
    "### 12. WAPP to find the roots of a quadratic equation  ax2 + bx + c = 0."
   ]
  },
  {
   "cell_type": "code",
   "execution_count": 20,
   "id": "323e9c3a",
   "metadata": {
    "scrolled": true
   },
   "outputs": [
    {
     "name": "stdout",
     "output_type": "stream",
     "text": [
      "Enter the coefficient 'a': 4\n",
      "Enter the coefficient 'b': 8\n",
      "Enter the coefficient 'c': 2\n",
      "The roots of the quadratic equation are:\n",
      "Root 1: -0.2928932188134524\n",
      "Root 2: -1.7071067811865475\n"
     ]
    }
   ],
   "source": [
    "import math\n",
    "\n",
    "def quadratic_roots(a, b, c):\n",
    "    discriminant = b**2 - 4*a*c\n",
    "    sqrt_discriminant = math.sqrt(abs(discriminant))\n",
    "    \n",
    "    if discriminant >= 0:\n",
    "        root1 = (-b + sqrt_discriminant) / (2*a)\n",
    "        root2 = (-b - sqrt_discriminant) / (2*a)\n",
    "        if discriminant > 0:\n",
    "            return root1, root2\n",
    "        else:\n",
    "            return root1\n",
    "    else:\n",
    "        real_part = -b / (2*a)\n",
    "        imaginary_part = sqrt_discriminant / (2*a)\n",
    "        root1 = complex(real_part, imaginary_part)\n",
    "        root2 = complex(real_part, -imaginary_part)\n",
    "        return root1, root2\n",
    "\n",
    "# User Input\n",
    "a = float(input(\"Enter the coefficient 'a': \"))\n",
    "b = float(input(\"Enter the coefficient 'b': \"))\n",
    "c = float(input(\"Enter the coefficient 'c': \"))\n",
    "\n",
    "roots = quadratic_roots(a, b, c)\n",
    "print(\"The roots of the quadratic equation are:\")\n",
    "for i in range(len(roots)):\n",
    "    print(f\"Root {i+1}: {roots[i]}\")"
   ]
  },
  {
   "cell_type": "markdown",
   "id": "aa253d43",
   "metadata": {},
   "source": [
    "### 13. KIIT DU has following rules for grading system:\n",
    "#### http://coe.kiit.ac.in/examination-regulations.php#R1\n",
    "#### WAPP to enter your marks of any 5 courses of 2 semesters through keyboard print the corresponding grade.\n",
    "### Calculate SGPA for each semester and overall CGPA."
   ]
  },
  {
   "cell_type": "code",
   "execution_count": null,
   "id": "562bd731",
   "metadata": {},
   "outputs": [],
   "source": [
    "def calculate_credit_point(marks, credits):\n",
    "    if marks >= 90:\n",
    "        return 10 * credits\n",
    "    elif 80 <= marks < 90:\n",
    "        return 9 * credits\n",
    "    elif 70 <= marks < 80:\n",
    "        return 8 * credits\n",
    "    elif 60 <= marks < 70:\n",
    "        return 7 * credits\n",
    "    elif 50 <= marks < 60:\n",
    "        return 6 * credits\n",
    "    else:\n",
    "        return 0\n",
    "\n",
    "def calculate_semester_sgpa(marks_list):\n",
    "    total_credits = 0\n",
    "    total_credit_points = 0\n",
    "\n",
    "    print(\"\\nEnter marks for 5 courses :\\n\")\n",
    "    for course in marks_list:\n",
    "        marks = int(input())\n",
    "        credit_point = calculate_credit_point(marks, course['credits'])\n",
    "\n",
    "        total_credits += course['credits']\n",
    "        total_credit_points += credit_point\n",
    "\n",
    "    sgpa = total_credit_points / total_credits\n",
    "    return sgpa\n",
    "\n",
    "def calculate_cgpa(semesters):\n",
    "    total_credit_points = 0\n",
    "    total_credits = 0\n",
    "\n",
    "    for semester in semesters:\n",
    "        total_credit_points += semester['credit_points']\n",
    "        total_credits += semester['total_credits']\n",
    "\n",
    "    cgpa = total_credit_points / total_credits\n",
    "    return cgpa\n",
    "\n",
    "def main():\n",
    "    semesters = []\n",
    "\n",
    "    for semester_num in range(1, 3):  # Two semesters\n",
    "        marks_list = []\n",
    "        total_credits_semester = 0\n",
    "\n",
    "        print(\"Semester -\", semester_num)\n",
    "        for course_num in range(1, 6):  # 5 courses per semester\n",
    "            course_name = input(f\"Course-{course_num} name: \")\n",
    "            credits = int(input(f\"Credits for {course_name}: \"))\n",
    "            total_credits_semester += credits\n",
    "\n",
    "            marks_list.append({'name': course_name, 'credits': credits})\n",
    "\n",
    "        semester_sgpa = calculate_semester_sgpa(marks_list)\n",
    "        semesters.append({'semester': semester_num, 'credit_points': semester_sgpa * total_credits_semester, 'total_credits': total_credits_semester})\n",
    "\n",
    "    overall_cgpa = calculate_cgpa(semesters)\n",
    "\n",
    "    print(\"\\nSemester-wise SGPA:\")\n",
    "    for i, semester in enumerate(semesters):\n",
    "        print(f\"Semester {semester['semester']} SGPA: {semester['credit_points'] / semester['total_credits']:.2f}\")\n",
    "\n",
    "    print(f\"\\nOverall CGPA: {overall_cgpa:.2f}\")\n",
    "\n",
    "if __name__ == \"__main__\":\n",
    "    main()\n"
   ]
  },
  {
   "cell_type": "markdown",
   "id": "621075f2",
   "metadata": {},
   "source": [
    "### 14. A student will not be allowed to sit in exam if his/her attendence is less than 70%.\n",
    "### Take following input from user:\n",
    "### • Number of classes held\n",
    "### • Number of classes attended\n",
    "### Print percentage of class attended and check the student is allowed to sit in exam or not."
   ]
  },
  {
   "cell_type": "code",
   "execution_count": 21,
   "id": "984f4588",
   "metadata": {},
   "outputs": [
    {
     "name": "stdout",
     "output_type": "stream",
     "text": [
      "Enter the number of classes held: 50\n",
      "Enter the number of classes attended: 40\n",
      "Percentage of classes attended: 80.00%\n",
      "The student is allowed to sit in the exam.\n"
     ]
    }
   ],
   "source": [
    "# Input from the user\n",
    "classes_held = int(input(\"Enter the number of classes held: \"))\n",
    "classes_attended = int(input(\"Enter the number of classes attended: \"))\n",
    "\n",
    "attend_percent = (classes_attended / classes_held) * 100\n",
    "\n",
    "if attend_percent >= 70:\n",
    "    print(f\"Percentage of classes attended: {attend_percent:.2f}%\")\n",
    "    print(\"The student is allowed to sit in the exam.\")\n",
    "else:\n",
    "    print(f\"Percentage of classes attended: {attend_percent:.2f}%\")\n",
    "    print(\"The student is not allowed to sit in the exam due to low attendance.\")\n"
   ]
  },
  {
   "cell_type": "markdown",
   "id": "10a2f053",
   "metadata": {},
   "source": [
    "### 15. High Radius Company decided to give bonus of 10% to employee if his/her year of service is more than 5 years.\n",
    "### • Enter salary and year of service from keyboard and print the net bonus amount.\n",
    "### • Determine oldest and youngest among 3 employees by taking input(from user) of their age."
   ]
  },
  {
   "cell_type": "code",
   "execution_count": 22,
   "id": "33f80a45",
   "metadata": {},
   "outputs": [
    {
     "name": "stdout",
     "output_type": "stream",
     "text": [
      "Enter employee's salary: 6000\n",
      "Enter employee's years of service: 7\n",
      "Net Bonus Amount: $600.00\n",
      "Enter age of employee 1: 41\n",
      "Enter age of employee 2: 34\n",
      "Enter age of employee 3: 26\n",
      "Oldest employee is 41 years old.\n",
      "Youngest employee is 26 years old.\n"
     ]
    }
   ],
   "source": [
    "def calculate_bonus(salary, years_of_service):\n",
    "    if years_of_service > 5:\n",
    "        bonus_percentage = 10\n",
    "        bonus_amount = (bonus_percentage / 100) * salary\n",
    "        return bonus_amount\n",
    "    else:\n",
    "        return 0\n",
    "\n",
    "def find_age():\n",
    "    ages = [int(input(f\"Enter age of employee {i+1}: \")) for i in range(3)]\n",
    "    oldest_age = max(ages)\n",
    "    youngest_age = min(ages)\n",
    "    return oldest_age, youngest_age\n",
    "\n",
    "# Input for salary and years of service\n",
    "salary = float(input(\"Enter employee's salary: \"))\n",
    "yearsOfService = int(input(\"Enter employee's years of service: \"))\n",
    "\n",
    "# Calculate and print bonus\n",
    "bonus = calculate_bonus(salary, yearsOfService)\n",
    "print(f\"Net Bonus Amount: ${bonus:.2f}\")\n",
    "\n",
    "# Determine and print oldest and youngest employees' ages\n",
    "oldest, youngest = find_age()\n",
    "print(f\"Oldest employee is {oldest} years old.\")\n",
    "print(f\"Youngest employee is {youngest} years old.\")\n"
   ]
  },
  {
   "cell_type": "markdown",
   "id": "ec4917e6",
   "metadata": {},
   "source": [
    "# HOME EXERCISE (HE)"
   ]
  },
  {
   "cell_type": "markdown",
   "id": "5f56002d",
   "metadata": {},
   "source": [
    "### 1. WAPP to convert a quantity in meter entered through keyboard into its equivalent kilometre and meter as per the following format. Example. 2430 meter = 2 Km and 430 meter."
   ]
  },
  {
   "cell_type": "code",
   "execution_count": 3,
   "id": "971e305d",
   "metadata": {},
   "outputs": [
    {
     "name": "stdout",
     "output_type": "stream",
     "text": [
      "Enter the quantity in meters: 2430\n",
      "2430 meters = 2 Km and 430 meters.\n"
     ]
    }
   ],
   "source": [
    "quantity = int(input(\"Enter the quantity in meters: \"))\n",
    "\n",
    "# Conversion\n",
    "kilometers = quantity // 1000\n",
    "remaining_meters = quantity % 1000\n",
    "\n",
    "print(f\"{quantity} meters = {kilometers} Km and {remaining_meters} meters.\")"
   ]
  },
  {
   "cell_type": "markdown",
   "id": "5667f3e7",
   "metadata": {},
   "source": [
    "### 2. WAPP to print sum of all prime number between 1 to n using loop."
   ]
  },
  {
   "cell_type": "code",
   "execution_count": 1,
   "id": "1812bf96",
   "metadata": {},
   "outputs": [
    {
     "name": "stdout",
     "output_type": "stream",
     "text": [
      "Enter the value of n : 10\n",
      "The sum of all prime numbers between 1 and 10 is: 17\n"
     ]
    }
   ],
   "source": [
    "# Input for the value of n\n",
    "n = int(input(\"Enter the value of n : \"))\n",
    "prime_sum = 0\n",
    "\n",
    "for i in range(2, n + 1):\n",
    "    is_prime = True\n",
    "\n",
    "    for j in range(2, int(i**0.5) + 1):\n",
    "        if i % j == 0:\n",
    "            is_prime = False\n",
    "            break\n",
    "\n",
    "    if is_prime:\n",
    "        prime_sum += i\n",
    "\n",
    "print(f\"The sum of all prime numbers between 1 and {n} is: {prime_sum}\")"
   ]
  },
  {
   "cell_type": "markdown",
   "id": "e8811669",
   "metadata": {},
   "source": [
    "### 3. WAPP to display the reverse of a number entered through keyboard."
   ]
  },
  {
   "cell_type": "code",
   "execution_count": null,
   "id": "61826a68",
   "metadata": {},
   "outputs": [],
   "source": [
    "# Input for the number\n",
    "num = int(input(\"Enter a number: \"))\n",
    "rev = 0\n",
    "while num > 0:\n",
    "    rem = num % 10\n",
    "    rev = rev * 10 + rem\n",
    "    num //= 10\n",
    "\n",
    "print(f\"The reverse of {num} is: {rev}\")"
   ]
  },
  {
   "cell_type": "markdown",
   "id": "3f51a1a2",
   "metadata": {},
   "source": [
    "### 4. WAPP to convert a decimal number into its equivalent number with base b. Decimal number and b are the user input."
   ]
  },
  {
   "cell_type": "code",
   "execution_count": 17,
   "id": "346206b1",
   "metadata": {},
   "outputs": [
    {
     "name": "stdout",
     "output_type": "stream",
     "text": [
      "Enter the decimal number: 100\n",
      "Enter the base (between 2 and 36): 16\n",
      "The equivalent number of 100 in base 16 is: 64\n"
     ]
    }
   ],
   "source": [
    "def decimal_to_base(decimal_num, base):\n",
    "    if not (2 <= base <= 16):\n",
    "        return \"Invalid base. Please enter a base between 2 and 16.\"\n",
    "\n",
    "    result = \"\"\n",
    "    while decimal_num > 0:\n",
    "        remainder = decimal_num % base\n",
    "        result = str(remainder) + result\n",
    "        decimal_num //= base\n",
    "\n",
    "    return result if result else \"0\"\n",
    "\n",
    "\n",
    "decimal_number = int(input(\"Enter the decimal number: \"))\n",
    "base = int(input(\"Enter the base (between 2 and 36): \"))\n",
    "\n",
    "result = decimal_to_base(decimal_number, base)\n",
    "print(f\"The equivalent number of {decimal_number} in base {base} is: {result}\")"
   ]
  },
  {
   "cell_type": "markdown",
   "id": "a103a8e9",
   "metadata": {},
   "source": [
    "### 5. WAPP to sum the following series S=1+(1+2)+(1+2+3)+...+(1+2+3+...+n)"
   ]
  },
  {
   "cell_type": "code",
   "execution_count": 15,
   "id": "6bb77680",
   "metadata": {},
   "outputs": [
    {
     "name": "stdout",
     "output_type": "stream",
     "text": [
      "Enter the value of n: 5\n",
      "The sum of the series S = 1 + (1+2) + (1+2+3) + ... + (1+2+3+...+n) is: 35\n"
     ]
    }
   ],
   "source": [
    "def calculate_series_sum(n):\n",
    "    total_sum = 0\n",
    "    current_sum = 0\n",
    "\n",
    "    for i in range(1, n + 1):\n",
    "        current_sum += i\n",
    "        total_sum += current_sum\n",
    "\n",
    "    return total_sum\n",
    "\n",
    "\n",
    "\n",
    "n = int(input(\"Enter the value of n: \"))\n",
    "\n",
    "result = calculate_series_sum(n)\n",
    "print(f\"The sum of the series S = 1 + (1+2) + (1+2+3) + ... + (1+2+3+...+n) is: {result}\")"
   ]
  }
 ],
 "metadata": {
  "kernelspec": {
   "display_name": "Python 3 (ipykernel)",
   "language": "python",
   "name": "python3"
  },
  "language_info": {
   "codemirror_mode": {
    "name": "ipython",
    "version": 3
   },
   "file_extension": ".py",
   "mimetype": "text/x-python",
   "name": "python",
   "nbconvert_exporter": "python",
   "pygments_lexer": "ipython3",
   "version": "3.11.5"
  }
 },
 "nbformat": 4,
 "nbformat_minor": 5
}
